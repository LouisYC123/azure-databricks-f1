{
 "cells": [
  {
   "cell_type": "markdown",
   "metadata": {
    "application/vnd.databricks.v1+cell": {
     "cellMetadata": {
      "byteLimit": 2048000,
      "rowLimit": 10000
     },
     "inputWidgets": {},
     "nuid": "3828afad-b2ad-421e-b3a4-d8595ce0b7b0",
     "showTitle": false,
     "title": ""
    }
   },
   "source": [
    "# Ingest results.json"
   ]
  },
  {
   "cell_type": "markdown",
   "metadata": {
    "application/vnd.databricks.v1+cell": {
     "cellMetadata": {
      "byteLimit": 2048000,
      "rowLimit": 10000
     },
     "inputWidgets": {},
     "nuid": "265110ed-fd23-4f2c-8dd8-1b8ba71aaf87",
     "showTitle": false,
     "title": ""
    }
   },
   "source": [
    "#### Requirements\n",
    " - rename cols into snake case\n",
    " - drop status_id\n",
    " - create ingestion date col\n",
    " - partition the data on write by race_id"
   ]
  },
  {
   "cell_type": "code",
   "execution_count": null,
   "metadata": {
    "application/vnd.databricks.v1+cell": {
     "cellMetadata": {
      "byteLimit": 2048000,
      "rowLimit": 10000
     },
     "inputWidgets": {},
     "nuid": "c893be2b-7286-42c1-a2f3-f453f9b94d7b",
     "showTitle": false,
     "title": ""
    }
   },
   "outputs": [],
   "source": [
    "from pyspark.sql.types import StructType, StructField, IntegerType, StringType, DoubleType\n",
    "from pyspark.sql.functions import col, current_timestamp"
   ]
  },
  {
   "cell_type": "markdown",
   "metadata": {
    "application/vnd.databricks.v1+cell": {
     "cellMetadata": {
      "byteLimit": 2048000,
      "rowLimit": 10000
     },
     "inputWidgets": {},
     "nuid": "d59bc75b-eb3d-4fb1-97a0-57dd1184b167",
     "showTitle": false,
     "title": ""
    }
   },
   "source": [
    "#### Step 1 - Read the data"
   ]
  },
  {
   "cell_type": "code",
   "execution_count": null,
   "metadata": {
    "application/vnd.databricks.v1+cell": {
     "cellMetadata": {
      "byteLimit": 2048000,
      "rowLimit": 10000
     },
     "inputWidgets": {},
     "nuid": "0b6bd646-c500-4ada-921f-779b33a65127",
     "showTitle": false,
     "title": ""
    }
   },
   "outputs": [],
   "source": [
    "results_schema = StructType(fields=[\n",
    "    StructField(\"resultId\", IntegerType(), False),\n",
    "    StructField(\"raceId\", IntegerType(), True),\n",
    "    StructField(\"driverId\", IntegerType(), True),\n",
    "    StructField(\"constructorId\", IntegerType(), True),\n",
    "    StructField(\"number\", IntegerType(), True),\n",
    "    StructField(\"grid\", IntegerType(), True),\n",
    "    StructField(\"position\", IntegerType(), True),\n",
    "    StructField(\"positionText\", StringType(), True),\n",
    "    StructField(\"positionOrder\", IntegerType(), True),\n",
    "    StructField(\"points\", DoubleType(), True),\n",
    "    StructField(\"laps\", IntegerType(), True),\n",
    "    StructField(\"time\", StringType(), True),\n",
    "    StructField(\"milliseconds\", IntegerType(), True),\n",
    "    StructField(\"fastestLap\", IntegerType(), True),\n",
    "    StructField(\"rank\", IntegerType(), True),\n",
    "    StructField(\"fastestLapTime\", StringType(), True),\n",
    "    StructField(\"fastestLapSpeed\", StringType(), True),\n",
    "    StructField(\"statusId\", IntegerType(), True),\n",
    "])"
   ]
  },
  {
   "cell_type": "code",
   "execution_count": null,
   "metadata": {
    "application/vnd.databricks.v1+cell": {
     "cellMetadata": {
      "byteLimit": 2048000,
      "rowLimit": 10000
     },
     "inputWidgets": {},
     "nuid": "5d722898-c213-45e7-a659-71d7209cea9a",
     "showTitle": false,
     "title": ""
    }
   },
   "outputs": [],
   "source": [
    "results_df = spark.read.option(\"header\", True).schema(results_schema).json('/mnt/formula1lgdl/raw/results.json')"
   ]
  },
  {
   "cell_type": "markdown",
   "metadata": {
    "application/vnd.databricks.v1+cell": {
     "cellMetadata": {
      "byteLimit": 2048000,
      "rowLimit": 10000
     },
     "inputWidgets": {},
     "nuid": "af9c024c-4e3b-4ce5-8e5d-0e7814e83fac",
     "showTitle": false,
     "title": ""
    }
   },
   "source": [
    "#### Step 2 - Rename cols to snake case and drop status_id"
   ]
  },
  {
   "cell_type": "code",
   "execution_count": null,
   "metadata": {
    "application/vnd.databricks.v1+cell": {
     "cellMetadata": {
      "byteLimit": 2048000,
      "rowLimit": 10000
     },
     "inputWidgets": {},
     "nuid": "e54353d0-c5f9-44bd-b131-2f4be106ace8",
     "showTitle": false,
     "title": ""
    }
   },
   "outputs": [],
   "source": [
    "results_df_renamed = results_df.select(\n",
    "    col(\"resultId\").alias(\"result_id\"),\n",
    "    col(\"raceId\").alias(\"race_id\"),\n",
    "    col(\"driverId\").alias(\"driver_id\"),\n",
    "    col(\"constructorId\").alias(\"constructor_id\"),\n",
    "    col(\"number\"),\n",
    "    col(\"grid\"),\n",
    "    col(\"position\"),\n",
    "    col(\"positionText\").alias(\"position_text\"),\n",
    "    col(\"positionOrder\").alias(\"position_order\"),\n",
    "    col(\"points\"),\n",
    "    col(\"laps\"),\n",
    "    col(\"time\"),\n",
    "    col(\"milliseconds\"),\n",
    "    col(\"fastestLap\").alias(\"fastest_lap\"),\n",
    "    col(\"rank\"),\n",
    "    col(\"fastestLapTime\").alias(\"fastest_lap_time\"),\n",
    "    col(\"fastestLapSpeed\").alias(\"fastest_lap_speed\"),\n",
    ")"
   ]
  },
  {
   "cell_type": "markdown",
   "metadata": {
    "application/vnd.databricks.v1+cell": {
     "cellMetadata": {
      "byteLimit": 2048000,
      "rowLimit": 10000
     },
     "inputWidgets": {},
     "nuid": "59f84f54-3479-4c76-be97-fd632018a8d1",
     "showTitle": false,
     "title": ""
    }
   },
   "source": [
    "#### Step 4 - create ingestion date col"
   ]
  },
  {
   "cell_type": "code",
   "execution_count": null,
   "metadata": {
    "application/vnd.databricks.v1+cell": {
     "cellMetadata": {
      "byteLimit": 2048000,
      "rowLimit": 10000
     },
     "inputWidgets": {},
     "nuid": "242ae1a6-d935-42eb-8f19-a2c2d8d82908",
     "showTitle": false,
     "title": ""
    }
   },
   "outputs": [],
   "source": [
    "results_df_final = results_df_renamed.withColumn(\"ingestion_date\", current_timestamp())"
   ]
  },
  {
   "cell_type": "markdown",
   "metadata": {
    "application/vnd.databricks.v1+cell": {
     "cellMetadata": {
      "byteLimit": 2048000,
      "rowLimit": 10000
     },
     "inputWidgets": {},
     "nuid": "e2704c8c-2744-44f4-8fbb-efba642b6653",
     "showTitle": false,
     "title": ""
    }
   },
   "source": [
    "#### Step 4 - partition the data on write by race_id"
   ]
  },
  {
   "cell_type": "code",
   "execution_count": null,
   "metadata": {
    "application/vnd.databricks.v1+cell": {
     "cellMetadata": {
      "byteLimit": 2048000,
      "rowLimit": 10000
     },
     "inputWidgets": {},
     "nuid": "4fc5fd0f-ec85-4381-ad1e-b1f7b3b3b614",
     "showTitle": false,
     "title": ""
    }
   },
   "outputs": [],
   "source": [
    "results_df_final.write.mode(\"overwrite\").partitionBy(\"race_id\").parquet(\"/mnt/formula1lgdl/processed/results\")"
   ]
  }
 ],
 "metadata": {
  "application/vnd.databricks.v1+notebook": {
   "dashboards": [],
   "language": "python",
   "notebookMetadata": {
    "mostRecentlyExecutedCommandWithImplicitDF": {
     "commandId": 2515800322316966,
     "dataframes": [
      "_sqldf"
     ]
    },
    "pythonIndentUnit": 4
   },
   "notebookName": "ingest_results_file",
   "widgets": {}
  },
  "language_info": {
   "name": "python"
  }
 },
 "nbformat": 4,
 "nbformat_minor": 0
}
