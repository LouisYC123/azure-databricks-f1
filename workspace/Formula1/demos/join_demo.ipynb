{
 "cells": [
  {
   "cell_type": "markdown",
   "metadata": {
    "application/vnd.databricks.v1+cell": {
     "cellMetadata": {
      "byteLimit": 2048000,
      "rowLimit": 10000
     },
     "inputWidgets": {},
     "nuid": "1d5eee37-0870-41a1-913e-92fb015325c9",
     "showTitle": false,
     "title": ""
    }
   },
   "source": [
    "## Spark Join Transformation"
   ]
  },
  {
   "cell_type": "markdown",
   "metadata": {
    "application/vnd.databricks.v1+cell": {
     "cellMetadata": {
      "byteLimit": 2048000,
      "rowLimit": 10000
     },
     "inputWidgets": {},
     "nuid": "87a5923c-8565-4806-8fc8-d2a1766b4e10",
     "showTitle": false,
     "title": ""
    }
   },
   "source": [
    "#### Inner Join"
   ]
  },
  {
   "cell_type": "code",
   "execution_count": 0,
   "metadata": {
    "application/vnd.databricks.v1+cell": {
     "cellMetadata": {
      "byteLimit": 2048000,
      "rowLimit": 10000
     },
     "inputWidgets": {},
     "nuid": "91c8717b-c0b2-4639-83c8-7173d5daa376",
     "showTitle": false,
     "title": ""
    }
   },
   "outputs": [],
   "source": [
    "%run \"../includes/configuration\""
   ]
  },
  {
   "cell_type": "code",
   "execution_count": 0,
   "metadata": {
    "application/vnd.databricks.v1+cell": {
     "cellMetadata": {
      "byteLimit": 2048000,
      "rowLimit": 10000
     },
     "inputWidgets": {},
     "nuid": "12cd6f5e-f848-4859-9042-f6435296f35e",
     "showTitle": false,
     "title": ""
    }
   },
   "outputs": [],
   "source": [
    "races_df = spark.read.parquet(f\"{processed_folder_path}/races\").filter(\"race_year = 2019\").withColumnRenamed(\"name\", \"race_name\")"
   ]
  },
  {
   "cell_type": "code",
   "execution_count": 0,
   "metadata": {
    "application/vnd.databricks.v1+cell": {
     "cellMetadata": {
      "byteLimit": 2048000,
      "rowLimit": 10000
     },
     "inputWidgets": {},
     "nuid": "65605bc1-1edc-426a-ae56-3c2a7af92fa3",
     "showTitle": false,
     "title": ""
    }
   },
   "outputs": [
    {
     "output_type": "display_data",
     "data": {
      "text/plain": [
       "\u001B[0;31m---------------------------------------------------------------------------\u001B[0m\n",
       "\u001B[0;31mAnalysisException\u001B[0m                         Traceback (most recent call last)\n",
       "\u001B[0;32m<command-1968247876962746>\u001B[0m in \u001B[0;36m<cell line: 1>\u001B[0;34m()\u001B[0m\n",
       "\u001B[0;32m----> 1\u001B[0;31m \u001B[0mcircuits_df\u001B[0m \u001B[0;34m=\u001B[0m \u001B[0mspark\u001B[0m\u001B[0;34m.\u001B[0m\u001B[0mread\u001B[0m\u001B[0;34m.\u001B[0m\u001B[0mparquet\u001B[0m\u001B[0;34m(\u001B[0m\u001B[0;34mf\"{processed_folder_path}/circuits\"\u001B[0m\u001B[0;34m)\u001B[0m\u001B[0;34m.\u001B[0m\u001B[0mwithColumnRenamed\u001B[0m\u001B[0;34m(\u001B[0m\u001B[0;34m\"name\"\u001B[0m\u001B[0;34m,\u001B[0m\u001B[0;34m\"circuit_name\"\u001B[0m\u001B[0;34m)\u001B[0m\u001B[0;31m \u001B[0m\u001B[0;31m\\\u001B[0m\u001B[0;34m\u001B[0m\u001B[0;34m\u001B[0m\u001B[0m\n",
       "\u001B[0m\u001B[1;32m      2\u001B[0m \u001B[0;34m.\u001B[0m\u001B[0mfilter\u001B[0m\u001B[0;34m(\u001B[0m\u001B[0mcircuits_df\u001B[0m\u001B[0;34m.\u001B[0m\u001B[0mcircuit_id\u001B[0m \u001B[0;34m<\u001B[0m \u001B[0;36m70\u001B[0m\u001B[0;34m)\u001B[0m\u001B[0;34m\u001B[0m\u001B[0;34m\u001B[0m\u001B[0m\n",
       "\n",
       "\u001B[0;32m/databricks/spark/python/pyspark/instrumentation_utils.py\u001B[0m in \u001B[0;36mwrapper\u001B[0;34m(*args, **kwargs)\u001B[0m\n",
       "\u001B[1;32m     46\u001B[0m             \u001B[0mstart\u001B[0m \u001B[0;34m=\u001B[0m \u001B[0mtime\u001B[0m\u001B[0;34m.\u001B[0m\u001B[0mperf_counter\u001B[0m\u001B[0;34m(\u001B[0m\u001B[0;34m)\u001B[0m\u001B[0;34m\u001B[0m\u001B[0;34m\u001B[0m\u001B[0m\n",
       "\u001B[1;32m     47\u001B[0m             \u001B[0;32mtry\u001B[0m\u001B[0;34m:\u001B[0m\u001B[0;34m\u001B[0m\u001B[0;34m\u001B[0m\u001B[0m\n",
       "\u001B[0;32m---> 48\u001B[0;31m                 \u001B[0mres\u001B[0m \u001B[0;34m=\u001B[0m \u001B[0mfunc\u001B[0m\u001B[0;34m(\u001B[0m\u001B[0;34m*\u001B[0m\u001B[0margs\u001B[0m\u001B[0;34m,\u001B[0m \u001B[0;34m**\u001B[0m\u001B[0mkwargs\u001B[0m\u001B[0;34m)\u001B[0m\u001B[0;34m\u001B[0m\u001B[0;34m\u001B[0m\u001B[0m\n",
       "\u001B[0m\u001B[1;32m     49\u001B[0m                 logger.log_success(\n",
       "\u001B[1;32m     50\u001B[0m                     \u001B[0mmodule_name\u001B[0m\u001B[0;34m,\u001B[0m \u001B[0mclass_name\u001B[0m\u001B[0;34m,\u001B[0m \u001B[0mfunction_name\u001B[0m\u001B[0;34m,\u001B[0m \u001B[0mtime\u001B[0m\u001B[0;34m.\u001B[0m\u001B[0mperf_counter\u001B[0m\u001B[0;34m(\u001B[0m\u001B[0;34m)\u001B[0m \u001B[0;34m-\u001B[0m \u001B[0mstart\u001B[0m\u001B[0;34m,\u001B[0m \u001B[0msignature\u001B[0m\u001B[0;34m\u001B[0m\u001B[0;34m\u001B[0m\u001B[0m\n",
       "\n",
       "\u001B[0;32m/databricks/spark/python/pyspark/sql/dataframe.py\u001B[0m in \u001B[0;36mfilter\u001B[0;34m(self, condition)\u001B[0m\n",
       "\u001B[1;32m   2163\u001B[0m             \u001B[0mjdf\u001B[0m \u001B[0;34m=\u001B[0m \u001B[0mself\u001B[0m\u001B[0;34m.\u001B[0m\u001B[0m_jdf\u001B[0m\u001B[0;34m.\u001B[0m\u001B[0mfilter\u001B[0m\u001B[0;34m(\u001B[0m\u001B[0mcondition\u001B[0m\u001B[0;34m)\u001B[0m\u001B[0;34m\u001B[0m\u001B[0;34m\u001B[0m\u001B[0m\n",
       "\u001B[1;32m   2164\u001B[0m         \u001B[0;32melif\u001B[0m \u001B[0misinstance\u001B[0m\u001B[0;34m(\u001B[0m\u001B[0mcondition\u001B[0m\u001B[0;34m,\u001B[0m \u001B[0mColumn\u001B[0m\u001B[0;34m)\u001B[0m\u001B[0;34m:\u001B[0m\u001B[0;34m\u001B[0m\u001B[0;34m\u001B[0m\u001B[0m\n",
       "\u001B[0;32m-> 2165\u001B[0;31m             \u001B[0mjdf\u001B[0m \u001B[0;34m=\u001B[0m \u001B[0mself\u001B[0m\u001B[0;34m.\u001B[0m\u001B[0m_jdf\u001B[0m\u001B[0;34m.\u001B[0m\u001B[0mfilter\u001B[0m\u001B[0;34m(\u001B[0m\u001B[0mcondition\u001B[0m\u001B[0;34m.\u001B[0m\u001B[0m_jc\u001B[0m\u001B[0;34m)\u001B[0m\u001B[0;34m\u001B[0m\u001B[0;34m\u001B[0m\u001B[0m\n",
       "\u001B[0m\u001B[1;32m   2166\u001B[0m         \u001B[0;32melse\u001B[0m\u001B[0;34m:\u001B[0m\u001B[0;34m\u001B[0m\u001B[0;34m\u001B[0m\u001B[0m\n",
       "\u001B[1;32m   2167\u001B[0m             \u001B[0;32mraise\u001B[0m \u001B[0mTypeError\u001B[0m\u001B[0;34m(\u001B[0m\u001B[0;34m\"condition should be string or Column\"\u001B[0m\u001B[0;34m)\u001B[0m\u001B[0;34m\u001B[0m\u001B[0;34m\u001B[0m\u001B[0m\n",
       "\n",
       "\u001B[0;32m/databricks/spark/python/lib/py4j-0.10.9.5-src.zip/py4j/java_gateway.py\u001B[0m in \u001B[0;36m__call__\u001B[0;34m(self, *args)\u001B[0m\n",
       "\u001B[1;32m   1319\u001B[0m \u001B[0;34m\u001B[0m\u001B[0m\n",
       "\u001B[1;32m   1320\u001B[0m         \u001B[0manswer\u001B[0m \u001B[0;34m=\u001B[0m \u001B[0mself\u001B[0m\u001B[0;34m.\u001B[0m\u001B[0mgateway_client\u001B[0m\u001B[0;34m.\u001B[0m\u001B[0msend_command\u001B[0m\u001B[0;34m(\u001B[0m\u001B[0mcommand\u001B[0m\u001B[0;34m)\u001B[0m\u001B[0;34m\u001B[0m\u001B[0;34m\u001B[0m\u001B[0m\n",
       "\u001B[0;32m-> 1321\u001B[0;31m         return_value = get_return_value(\n",
       "\u001B[0m\u001B[1;32m   1322\u001B[0m             answer, self.gateway_client, self.target_id, self.name)\n",
       "\u001B[1;32m   1323\u001B[0m \u001B[0;34m\u001B[0m\u001B[0m\n",
       "\n",
       "\u001B[0;32m/databricks/spark/python/pyspark/sql/utils.py\u001B[0m in \u001B[0;36mdeco\u001B[0;34m(*a, **kw)\u001B[0m\n",
       "\u001B[1;32m    200\u001B[0m                 \u001B[0;31m# Hide where the exception came from that shows a non-Pythonic\u001B[0m\u001B[0;34m\u001B[0m\u001B[0;34m\u001B[0m\u001B[0;34m\u001B[0m\u001B[0m\n",
       "\u001B[1;32m    201\u001B[0m                 \u001B[0;31m# JVM exception message.\u001B[0m\u001B[0;34m\u001B[0m\u001B[0;34m\u001B[0m\u001B[0;34m\u001B[0m\u001B[0m\n",
       "\u001B[0;32m--> 202\u001B[0;31m                 \u001B[0;32mraise\u001B[0m \u001B[0mconverted\u001B[0m \u001B[0;32mfrom\u001B[0m \u001B[0;32mNone\u001B[0m\u001B[0;34m\u001B[0m\u001B[0;34m\u001B[0m\u001B[0m\n",
       "\u001B[0m\u001B[1;32m    203\u001B[0m             \u001B[0;32melse\u001B[0m\u001B[0;34m:\u001B[0m\u001B[0;34m\u001B[0m\u001B[0;34m\u001B[0m\u001B[0m\n",
       "\u001B[1;32m    204\u001B[0m                 \u001B[0;32mraise\u001B[0m\u001B[0;34m\u001B[0m\u001B[0;34m\u001B[0m\u001B[0m\n",
       "\n",
       "\u001B[0;31mAnalysisException\u001B[0m: Resolved attribute(s) circuit_id#98 missing from circuit_id#421,circuit_ref#422,circuit_name#439,location#424,country#425,latitude#426,longitude#427,altitude#428,ingestion_date#429 in operator !Filter (circuit_id#98 < 70). Attribute(s) with the same name appear in the operation: circuit_id. Please check if the right attribute(s) are used.;\n",
       "!Filter (circuit_id#98 < 70)\n",
       "+- Project [circuit_id#421, circuit_ref#422, name#423 AS circuit_name#439, location#424, country#425, latitude#426, longitude#427, altitude#428, ingestion_date#429]\n",
       "   +- Relation [circuit_id#421,circuit_ref#422,name#423,location#424,country#425,latitude#426,longitude#427,altitude#428,ingestion_date#429] parquet\n"
      ]
     },
     "metadata": {
      "application/vnd.databricks.v1+output": {
       "arguments": {},
       "data": "\u001B[0;31m---------------------------------------------------------------------------\u001B[0m\n\u001B[0;31mAnalysisException\u001B[0m                         Traceback (most recent call last)\n\u001B[0;32m<command-1968247876962746>\u001B[0m in \u001B[0;36m<cell line: 1>\u001B[0;34m()\u001B[0m\n\u001B[0;32m----> 1\u001B[0;31m \u001B[0mcircuits_df\u001B[0m \u001B[0;34m=\u001B[0m \u001B[0mspark\u001B[0m\u001B[0;34m.\u001B[0m\u001B[0mread\u001B[0m\u001B[0;34m.\u001B[0m\u001B[0mparquet\u001B[0m\u001B[0;34m(\u001B[0m\u001B[0;34mf\"{processed_folder_path}/circuits\"\u001B[0m\u001B[0;34m)\u001B[0m\u001B[0;34m.\u001B[0m\u001B[0mwithColumnRenamed\u001B[0m\u001B[0;34m(\u001B[0m\u001B[0;34m\"name\"\u001B[0m\u001B[0;34m,\u001B[0m\u001B[0;34m\"circuit_name\"\u001B[0m\u001B[0;34m)\u001B[0m\u001B[0;31m \u001B[0m\u001B[0;31m\\\u001B[0m\u001B[0;34m\u001B[0m\u001B[0;34m\u001B[0m\u001B[0m\n\u001B[0m\u001B[1;32m      2\u001B[0m \u001B[0;34m.\u001B[0m\u001B[0mfilter\u001B[0m\u001B[0;34m(\u001B[0m\u001B[0mcircuits_df\u001B[0m\u001B[0;34m.\u001B[0m\u001B[0mcircuit_id\u001B[0m \u001B[0;34m<\u001B[0m \u001B[0;36m70\u001B[0m\u001B[0;34m)\u001B[0m\u001B[0;34m\u001B[0m\u001B[0;34m\u001B[0m\u001B[0m\n\n\u001B[0;32m/databricks/spark/python/pyspark/instrumentation_utils.py\u001B[0m in \u001B[0;36mwrapper\u001B[0;34m(*args, **kwargs)\u001B[0m\n\u001B[1;32m     46\u001B[0m             \u001B[0mstart\u001B[0m \u001B[0;34m=\u001B[0m \u001B[0mtime\u001B[0m\u001B[0;34m.\u001B[0m\u001B[0mperf_counter\u001B[0m\u001B[0;34m(\u001B[0m\u001B[0;34m)\u001B[0m\u001B[0;34m\u001B[0m\u001B[0;34m\u001B[0m\u001B[0m\n\u001B[1;32m     47\u001B[0m             \u001B[0;32mtry\u001B[0m\u001B[0;34m:\u001B[0m\u001B[0;34m\u001B[0m\u001B[0;34m\u001B[0m\u001B[0m\n\u001B[0;32m---> 48\u001B[0;31m                 \u001B[0mres\u001B[0m \u001B[0;34m=\u001B[0m \u001B[0mfunc\u001B[0m\u001B[0;34m(\u001B[0m\u001B[0;34m*\u001B[0m\u001B[0margs\u001B[0m\u001B[0;34m,\u001B[0m \u001B[0;34m**\u001B[0m\u001B[0mkwargs\u001B[0m\u001B[0;34m)\u001B[0m\u001B[0;34m\u001B[0m\u001B[0;34m\u001B[0m\u001B[0m\n\u001B[0m\u001B[1;32m     49\u001B[0m                 logger.log_success(\n\u001B[1;32m     50\u001B[0m                     \u001B[0mmodule_name\u001B[0m\u001B[0;34m,\u001B[0m \u001B[0mclass_name\u001B[0m\u001B[0;34m,\u001B[0m \u001B[0mfunction_name\u001B[0m\u001B[0;34m,\u001B[0m \u001B[0mtime\u001B[0m\u001B[0;34m.\u001B[0m\u001B[0mperf_counter\u001B[0m\u001B[0;34m(\u001B[0m\u001B[0;34m)\u001B[0m \u001B[0;34m-\u001B[0m \u001B[0mstart\u001B[0m\u001B[0;34m,\u001B[0m \u001B[0msignature\u001B[0m\u001B[0;34m\u001B[0m\u001B[0;34m\u001B[0m\u001B[0m\n\n\u001B[0;32m/databricks/spark/python/pyspark/sql/dataframe.py\u001B[0m in \u001B[0;36mfilter\u001B[0;34m(self, condition)\u001B[0m\n\u001B[1;32m   2163\u001B[0m             \u001B[0mjdf\u001B[0m \u001B[0;34m=\u001B[0m \u001B[0mself\u001B[0m\u001B[0;34m.\u001B[0m\u001B[0m_jdf\u001B[0m\u001B[0;34m.\u001B[0m\u001B[0mfilter\u001B[0m\u001B[0;34m(\u001B[0m\u001B[0mcondition\u001B[0m\u001B[0;34m)\u001B[0m\u001B[0;34m\u001B[0m\u001B[0;34m\u001B[0m\u001B[0m\n\u001B[1;32m   2164\u001B[0m         \u001B[0;32melif\u001B[0m \u001B[0misinstance\u001B[0m\u001B[0;34m(\u001B[0m\u001B[0mcondition\u001B[0m\u001B[0;34m,\u001B[0m \u001B[0mColumn\u001B[0m\u001B[0;34m)\u001B[0m\u001B[0;34m:\u001B[0m\u001B[0;34m\u001B[0m\u001B[0;34m\u001B[0m\u001B[0m\n\u001B[0;32m-> 2165\u001B[0;31m             \u001B[0mjdf\u001B[0m \u001B[0;34m=\u001B[0m \u001B[0mself\u001B[0m\u001B[0;34m.\u001B[0m\u001B[0m_jdf\u001B[0m\u001B[0;34m.\u001B[0m\u001B[0mfilter\u001B[0m\u001B[0;34m(\u001B[0m\u001B[0mcondition\u001B[0m\u001B[0;34m.\u001B[0m\u001B[0m_jc\u001B[0m\u001B[0;34m)\u001B[0m\u001B[0;34m\u001B[0m\u001B[0;34m\u001B[0m\u001B[0m\n\u001B[0m\u001B[1;32m   2166\u001B[0m         \u001B[0;32melse\u001B[0m\u001B[0;34m:\u001B[0m\u001B[0;34m\u001B[0m\u001B[0;34m\u001B[0m\u001B[0m\n\u001B[1;32m   2167\u001B[0m             \u001B[0;32mraise\u001B[0m \u001B[0mTypeError\u001B[0m\u001B[0;34m(\u001B[0m\u001B[0;34m\"condition should be string or Column\"\u001B[0m\u001B[0;34m)\u001B[0m\u001B[0;34m\u001B[0m\u001B[0;34m\u001B[0m\u001B[0m\n\n\u001B[0;32m/databricks/spark/python/lib/py4j-0.10.9.5-src.zip/py4j/java_gateway.py\u001B[0m in \u001B[0;36m__call__\u001B[0;34m(self, *args)\u001B[0m\n\u001B[1;32m   1319\u001B[0m \u001B[0;34m\u001B[0m\u001B[0m\n\u001B[1;32m   1320\u001B[0m         \u001B[0manswer\u001B[0m \u001B[0;34m=\u001B[0m \u001B[0mself\u001B[0m\u001B[0;34m.\u001B[0m\u001B[0mgateway_client\u001B[0m\u001B[0;34m.\u001B[0m\u001B[0msend_command\u001B[0m\u001B[0;34m(\u001B[0m\u001B[0mcommand\u001B[0m\u001B[0;34m)\u001B[0m\u001B[0;34m\u001B[0m\u001B[0;34m\u001B[0m\u001B[0m\n\u001B[0;32m-> 1321\u001B[0;31m         return_value = get_return_value(\n\u001B[0m\u001B[1;32m   1322\u001B[0m             answer, self.gateway_client, self.target_id, self.name)\n\u001B[1;32m   1323\u001B[0m \u001B[0;34m\u001B[0m\u001B[0m\n\n\u001B[0;32m/databricks/spark/python/pyspark/sql/utils.py\u001B[0m in \u001B[0;36mdeco\u001B[0;34m(*a, **kw)\u001B[0m\n\u001B[1;32m    200\u001B[0m                 \u001B[0;31m# Hide where the exception came from that shows a non-Pythonic\u001B[0m\u001B[0;34m\u001B[0m\u001B[0;34m\u001B[0m\u001B[0;34m\u001B[0m\u001B[0m\n\u001B[1;32m    201\u001B[0m                 \u001B[0;31m# JVM exception message.\u001B[0m\u001B[0;34m\u001B[0m\u001B[0;34m\u001B[0m\u001B[0;34m\u001B[0m\u001B[0m\n\u001B[0;32m--> 202\u001B[0;31m                 \u001B[0;32mraise\u001B[0m \u001B[0mconverted\u001B[0m \u001B[0;32mfrom\u001B[0m \u001B[0;32mNone\u001B[0m\u001B[0;34m\u001B[0m\u001B[0;34m\u001B[0m\u001B[0m\n\u001B[0m\u001B[1;32m    203\u001B[0m             \u001B[0;32melse\u001B[0m\u001B[0;34m:\u001B[0m\u001B[0;34m\u001B[0m\u001B[0;34m\u001B[0m\u001B[0m\n\u001B[1;32m    204\u001B[0m                 \u001B[0;32mraise\u001B[0m\u001B[0;34m\u001B[0m\u001B[0;34m\u001B[0m\u001B[0m\n\n\u001B[0;31mAnalysisException\u001B[0m: Resolved attribute(s) circuit_id#98 missing from circuit_id#421,circuit_ref#422,circuit_name#439,location#424,country#425,latitude#426,longitude#427,altitude#428,ingestion_date#429 in operator !Filter (circuit_id#98 < 70). Attribute(s) with the same name appear in the operation: circuit_id. Please check if the right attribute(s) are used.;\n!Filter (circuit_id#98 < 70)\n+- Project [circuit_id#421, circuit_ref#422, name#423 AS circuit_name#439, location#424, country#425, latitude#426, longitude#427, altitude#428, ingestion_date#429]\n   +- Relation [circuit_id#421,circuit_ref#422,name#423,location#424,country#425,latitude#426,longitude#427,altitude#428,ingestion_date#429] parquet\n",
       "errorSummary": "<span class='ansi-red-fg'>AnalysisException</span>: Resolved attribute(s) circuit_id#98 missing from circuit_id#421,circuit_ref#422,circuit_name#439,location#424,country#425,latitude#426,longitude#427,altitude#428,ingestion_date#429 in operator !Filter (circuit_id#98 < 70). Attribute(s) with the same name appear in the operation: circuit_id. Please check if the right attribute(s) are used.;\n!Filter (circuit_id#98 < 70)\n+- Project [circuit_id#421, circuit_ref#422, name#423 AS circuit_name#439, location#424, country#425, latitude#426, longitude#427, altitude#428, ingestion_date#429]\n   +- Relation [circuit_id#421,circuit_ref#422,name#423,location#424,country#425,latitude#426,longitude#427,altitude#428,ingestion_date#429] parquet\n",
       "errorTraceType": "ansi",
       "metadata": {},
       "type": "ipynbError"
      }
     },
     "output_type": "display_data"
    }
   ],
   "source": [
    "circuits_df = spark.read.parquet(f\"{processed_folder_path}/circuits\").withColumnRenamed(\"name\",\"circuit_name\") \\\n",
    ".filter(circuits_df.circuit_id < 70)\n"
   ]
  },
  {
   "cell_type": "code",
   "execution_count": 0,
   "metadata": {
    "application/vnd.databricks.v1+cell": {
     "cellMetadata": {
      "byteLimit": 2048000,
      "rowLimit": 10000
     },
     "inputWidgets": {},
     "nuid": "1cf938c1-860f-4e89-b0db-4e4f69ed6fea",
     "showTitle": false,
     "title": ""
    }
   },
   "outputs": [],
   "source": [
    "race_circuits_df = circuits_df.join(races_df, circuits_df.circuit_id == races_df.circuit_id, \"inner\") \\\n",
    ".select(circuits_df.circuit_name, circuits_df.location, circuits_df.country, races_df.race_name, races_df.round)"
   ]
  },
  {
   "cell_type": "code",
   "execution_count": 0,
   "metadata": {
    "application/vnd.databricks.v1+cell": {
     "cellMetadata": {
      "byteLimit": 2048000,
      "rowLimit": 10000
     },
     "inputWidgets": {},
     "nuid": "813de6c2-520a-483c-bf50-34004937731a",
     "showTitle": false,
     "title": ""
    }
   },
   "outputs": [
    {
     "output_type": "display_data",
     "data": {
      "text/html": [
       "<style scoped>\n",
       "  .table-result-container {\n",
       "    max-height: 300px;\n",
       "    overflow: auto;\n",
       "  }\n",
       "  table, th, td {\n",
       "    border: 1px solid black;\n",
       "    border-collapse: collapse;\n",
       "  }\n",
       "  th, td {\n",
       "    padding: 5px;\n",
       "  }\n",
       "  th {\n",
       "    text-align: left;\n",
       "  }\n",
       "</style><div class='table-result-container'><table class='table-result'><thead style='background-color: white'><tr><th>circuit_name</th><th>location</th><th>country</th><th>race_name</th><th>round</th></tr></thead><tbody><tr><td>Albert Park Grand Prix Circuit</td><td>Melbourne</td><td>Australia</td><td>Australian Grand Prix</td><td>1</td></tr><tr><td>Bahrain International Circuit</td><td>Sakhir</td><td>Bahrain</td><td>Bahrain Grand Prix</td><td>2</td></tr><tr><td>Shanghai International Circuit</td><td>Shanghai</td><td>China</td><td>Chinese Grand Prix</td><td>3</td></tr><tr><td>Baku City Circuit</td><td>Baku</td><td>Azerbaijan</td><td>Azerbaijan Grand Prix</td><td>4</td></tr><tr><td>Circuit de Barcelona-Catalunya</td><td>Montmeló</td><td>Spain</td><td>Spanish Grand Prix</td><td>5</td></tr><tr><td>Circuit de Monaco</td><td>Monte-Carlo</td><td>Monaco</td><td>Monaco Grand Prix</td><td>6</td></tr><tr><td>Circuit Gilles Villeneuve</td><td>Montreal</td><td>Canada</td><td>Canadian Grand Prix</td><td>7</td></tr><tr><td>Circuit Paul Ricard</td><td>Le Castellet</td><td>France</td><td>French Grand Prix</td><td>8</td></tr><tr><td>Red Bull Ring</td><td>Spielburg</td><td>Austria</td><td>Austrian Grand Prix</td><td>9</td></tr><tr><td>Silverstone Circuit</td><td>Silverstone</td><td>UK</td><td>British Grand Prix</td><td>10</td></tr><tr><td>Hockenheimring</td><td>Hockenheim</td><td>Germany</td><td>German Grand Prix</td><td>11</td></tr><tr><td>Hungaroring</td><td>Budapest</td><td>Hungary</td><td>Hungarian Grand Prix</td><td>12</td></tr><tr><td>Circuit de Spa-Francorchamps</td><td>Spa</td><td>Belgium</td><td>Belgian Grand Prix</td><td>13</td></tr><tr><td>Autodromo Nazionale di Monza</td><td>Monza</td><td>Italy</td><td>Italian Grand Prix</td><td>14</td></tr><tr><td>Marina Bay Street Circuit</td><td>Marina Bay</td><td>Singapore</td><td>Singapore Grand Prix</td><td>15</td></tr><tr><td>Sochi Autodrom</td><td>Sochi</td><td>Russia</td><td>Russian Grand Prix</td><td>16</td></tr><tr><td>Suzuka Circuit</td><td>Suzuka</td><td>Japan</td><td>Japanese Grand Prix</td><td>17</td></tr><tr><td>Autódromo Hermanos Rodríguez</td><td>Mexico City</td><td>Mexico</td><td>Mexican Grand Prix</td><td>18</td></tr><tr><td>Circuit of the Americas</td><td>Austin</td><td>USA</td><td>United States Grand Prix</td><td>19</td></tr><tr><td>Autódromo José Carlos Pace</td><td>São Paulo</td><td>Brazil</td><td>Brazilian Grand Prix</td><td>20</td></tr><tr><td>Yas Marina Circuit</td><td>Abu Dhabi</td><td>UAE</td><td>Abu Dhabi Grand Prix</td><td>21</td></tr></tbody></table></div>"
      ]
     },
     "metadata": {
      "application/vnd.databricks.v1+output": {
       "addedWidgets": {},
       "aggData": [],
       "aggError": "",
       "aggOverflow": false,
       "aggSchema": [],
       "aggSeriesLimitReached": false,
       "aggType": "",
       "arguments": {},
       "columnCustomDisplayInfos": {},
       "data": [
        [
         "Albert Park Grand Prix Circuit",
         "Melbourne",
         "Australia",
         "Australian Grand Prix",
         1
        ],
        [
         "Bahrain International Circuit",
         "Sakhir",
         "Bahrain",
         "Bahrain Grand Prix",
         2
        ],
        [
         "Shanghai International Circuit",
         "Shanghai",
         "China",
         "Chinese Grand Prix",
         3
        ],
        [
         "Baku City Circuit",
         "Baku",
         "Azerbaijan",
         "Azerbaijan Grand Prix",
         4
        ],
        [
         "Circuit de Barcelona-Catalunya",
         "Montmeló",
         "Spain",
         "Spanish Grand Prix",
         5
        ],
        [
         "Circuit de Monaco",
         "Monte-Carlo",
         "Monaco",
         "Monaco Grand Prix",
         6
        ],
        [
         "Circuit Gilles Villeneuve",
         "Montreal",
         "Canada",
         "Canadian Grand Prix",
         7
        ],
        [
         "Circuit Paul Ricard",
         "Le Castellet",
         "France",
         "French Grand Prix",
         8
        ],
        [
         "Red Bull Ring",
         "Spielburg",
         "Austria",
         "Austrian Grand Prix",
         9
        ],
        [
         "Silverstone Circuit",
         "Silverstone",
         "UK",
         "British Grand Prix",
         10
        ],
        [
         "Hockenheimring",
         "Hockenheim",
         "Germany",
         "German Grand Prix",
         11
        ],
        [
         "Hungaroring",
         "Budapest",
         "Hungary",
         "Hungarian Grand Prix",
         12
        ],
        [
         "Circuit de Spa-Francorchamps",
         "Spa",
         "Belgium",
         "Belgian Grand Prix",
         13
        ],
        [
         "Autodromo Nazionale di Monza",
         "Monza",
         "Italy",
         "Italian Grand Prix",
         14
        ],
        [
         "Marina Bay Street Circuit",
         "Marina Bay",
         "Singapore",
         "Singapore Grand Prix",
         15
        ],
        [
         "Sochi Autodrom",
         "Sochi",
         "Russia",
         "Russian Grand Prix",
         16
        ],
        [
         "Suzuka Circuit",
         "Suzuka",
         "Japan",
         "Japanese Grand Prix",
         17
        ],
        [
         "Autódromo Hermanos Rodríguez",
         "Mexico City",
         "Mexico",
         "Mexican Grand Prix",
         18
        ],
        [
         "Circuit of the Americas",
         "Austin",
         "USA",
         "United States Grand Prix",
         19
        ],
        [
         "Autódromo José Carlos Pace",
         "São Paulo",
         "Brazil",
         "Brazilian Grand Prix",
         20
        ],
        [
         "Yas Marina Circuit",
         "Abu Dhabi",
         "UAE",
         "Abu Dhabi Grand Prix",
         21
        ]
       ],
       "datasetInfos": [],
       "dbfsResultPath": null,
       "isJsonSchema": true,
       "metadata": {},
       "overflow": false,
       "plotOptions": {
        "customPlotOptions": {},
        "displayType": "table",
        "pivotAggregation": null,
        "pivotColumns": null,
        "xColumns": null,
        "yColumns": null
       },
       "removedWidgets": [],
       "schema": [
        {
         "metadata": "{}",
         "name": "circuit_name",
         "type": "\"string\""
        },
        {
         "metadata": "{}",
         "name": "location",
         "type": "\"string\""
        },
        {
         "metadata": "{}",
         "name": "country",
         "type": "\"string\""
        },
        {
         "metadata": "{}",
         "name": "race_name",
         "type": "\"string\""
        },
        {
         "metadata": "{}",
         "name": "round",
         "type": "\"integer\""
        }
       ],
       "type": "table"
      }
     },
     "output_type": "display_data"
    }
   ],
   "source": [
    "display(race_circuits_df)"
   ]
  },
  {
   "cell_type": "markdown",
   "metadata": {
    "application/vnd.databricks.v1+cell": {
     "cellMetadata": {},
     "inputWidgets": {},
     "nuid": "d2023dfc-5375-499c-883d-16c5f113eb9b",
     "showTitle": false,
     "title": ""
    }
   },
   "source": [
    "#### Outer Join"
   ]
  },
  {
   "cell_type": "code",
   "execution_count": 0,
   "metadata": {
    "application/vnd.databricks.v1+cell": {
     "cellMetadata": {
      "byteLimit": 2048000,
      "rowLimit": 10000
     },
     "inputWidgets": {},
     "nuid": "84ece476-542c-4cb5-a4a7-3c6d9b1c24ba",
     "showTitle": false,
     "title": ""
    }
   },
   "outputs": [
    {
     "output_type": "display_data",
     "data": {
      "text/html": [
       "<style scoped>\n",
       "  .table-result-container {\n",
       "    max-height: 300px;\n",
       "    overflow: auto;\n",
       "  }\n",
       "  table, th, td {\n",
       "    border: 1px solid black;\n",
       "    border-collapse: collapse;\n",
       "  }\n",
       "  th, td {\n",
       "    padding: 5px;\n",
       "  }\n",
       "  th {\n",
       "    text-align: left;\n",
       "  }\n",
       "</style><div class='table-result-container'><table class='table-result'><thead style='background-color: white'><tr><th>circuit_name</th><th>location</th><th>country</th><th>race_name</th><th>round</th></tr></thead><tbody><tr><td>Albert Park Grand Prix Circuit</td><td>Melbourne</td><td>Australia</td><td>Australian Grand Prix</td><td>1</td></tr><tr><td>Sepang International Circuit</td><td>Kuala Lumpur</td><td>Malaysia</td><td>null</td><td>null</td></tr><tr><td>Bahrain International Circuit</td><td>Sakhir</td><td>Bahrain</td><td>Bahrain Grand Prix</td><td>2</td></tr><tr><td>Circuit de Barcelona-Catalunya</td><td>Montmeló</td><td>Spain</td><td>Spanish Grand Prix</td><td>5</td></tr><tr><td>Istanbul Park</td><td>Istanbul</td><td>Turkey</td><td>null</td><td>null</td></tr><tr><td>Circuit de Monaco</td><td>Monte-Carlo</td><td>Monaco</td><td>Monaco Grand Prix</td><td>6</td></tr><tr><td>Circuit Gilles Villeneuve</td><td>Montreal</td><td>Canada</td><td>Canadian Grand Prix</td><td>7</td></tr><tr><td>Circuit de Nevers Magny-Cours</td><td>Magny Cours</td><td>France</td><td>null</td><td>null</td></tr><tr><td>Silverstone Circuit</td><td>Silverstone</td><td>UK</td><td>British Grand Prix</td><td>10</td></tr><tr><td>Hockenheimring</td><td>Hockenheim</td><td>Germany</td><td>German Grand Prix</td><td>11</td></tr><tr><td>Hungaroring</td><td>Budapest</td><td>Hungary</td><td>Hungarian Grand Prix</td><td>12</td></tr><tr><td>Valencia Street Circuit</td><td>Valencia</td><td>Spain</td><td>null</td><td>null</td></tr><tr><td>Circuit de Spa-Francorchamps</td><td>Spa</td><td>Belgium</td><td>Belgian Grand Prix</td><td>13</td></tr><tr><td>Autodromo Nazionale di Monza</td><td>Monza</td><td>Italy</td><td>Italian Grand Prix</td><td>14</td></tr><tr><td>Marina Bay Street Circuit</td><td>Marina Bay</td><td>Singapore</td><td>Singapore Grand Prix</td><td>15</td></tr><tr><td>Fuji Speedway</td><td>Oyama</td><td>Japan</td><td>null</td><td>null</td></tr><tr><td>Shanghai International Circuit</td><td>Shanghai</td><td>China</td><td>Chinese Grand Prix</td><td>3</td></tr><tr><td>Autódromo José Carlos Pace</td><td>São Paulo</td><td>Brazil</td><td>Brazilian Grand Prix</td><td>20</td></tr><tr><td>Indianapolis Motor Speedway</td><td>Indianapolis</td><td>USA</td><td>null</td><td>null</td></tr><tr><td>Nürburgring</td><td>Nürburg</td><td>Germany</td><td>null</td><td>null</td></tr><tr><td>Autodromo Enzo e Dino Ferrari</td><td>Imola</td><td>Italy</td><td>null</td><td>null</td></tr><tr><td>Suzuka Circuit</td><td>Suzuka</td><td>Japan</td><td>Japanese Grand Prix</td><td>17</td></tr><tr><td>A1-Ring</td><td>Spielburg</td><td>Austria</td><td>null</td><td>null</td></tr><tr><td>Yas Marina Circuit</td><td>Abu Dhabi</td><td>UAE</td><td>Abu Dhabi Grand Prix</td><td>21</td></tr><tr><td>Autódromo Juan y Oscar Gálvez</td><td>Buenos Aires</td><td>Argentina</td><td>null</td><td>null</td></tr><tr><td>Circuito de Jerez</td><td>Jerez de la Frontera</td><td>Spain</td><td>null</td><td>null</td></tr><tr><td>Autódromo do Estoril</td><td>Estoril</td><td>Portugal</td><td>null</td><td>null</td></tr><tr><td>Okayama International Circuit</td><td>Okayama</td><td>Japan</td><td>null</td><td>null</td></tr><tr><td>Adelaide Street Circuit</td><td>Adelaide</td><td>Australia</td><td>null</td><td>null</td></tr><tr><td>Kyalami</td><td>Midrand</td><td>South Africa</td><td>null</td><td>null</td></tr><tr><td>Donington Park</td><td>Castle Donington</td><td>UK</td><td>null</td><td>null</td></tr><tr><td>Autódromo Hermanos Rodríguez</td><td>Mexico City</td><td>Mexico</td><td>Mexican Grand Prix</td><td>18</td></tr><tr><td>Phoenix street circuit</td><td>Phoenix</td><td>USA</td><td>null</td><td>null</td></tr><tr><td>Circuit Paul Ricard</td><td>Le Castellet</td><td>France</td><td>French Grand Prix</td><td>8</td></tr><tr><td>Korean International Circuit</td><td>Yeongam County</td><td>Korea</td><td>null</td><td>null</td></tr><tr><td>Autódromo Internacional Nelson Piquet</td><td>Rio de Janeiro</td><td>Brazil</td><td>null</td><td>null</td></tr><tr><td>Detroit Street Circuit</td><td>Detroit</td><td>USA</td><td>null</td><td>null</td></tr><tr><td>Brands Hatch</td><td>Kent</td><td>UK</td><td>null</td><td>null</td></tr><tr><td>Circuit Park Zandvoort</td><td>Zandvoort</td><td>Netherlands</td><td>null</td><td>null</td></tr><tr><td>Zolder</td><td>Heusden-Zolder</td><td>Belgium</td><td>null</td><td>null</td></tr><tr><td>Dijon-Prenois</td><td>Dijon</td><td>France</td><td>null</td><td>null</td></tr><tr><td>Fair Park</td><td>Dallas</td><td>USA</td><td>null</td><td>null</td></tr><tr><td>Long Beach</td><td>California</td><td>USA</td><td>null</td><td>null</td></tr><tr><td>Las Vegas Street Circuit</td><td>Nevada</td><td>USA</td><td>null</td><td>null</td></tr><tr><td>Jarama</td><td>Madrid</td><td>Spain</td><td>null</td><td>null</td></tr><tr><td>Watkins Glen</td><td>New York State</td><td>USA</td><td>null</td><td>null</td></tr><tr><td>Scandinavian Raceway</td><td>Anderstorp</td><td>Sweden</td><td>null</td><td>null</td></tr><tr><td>Mosport International Raceway</td><td>Ontario</td><td>Canada</td><td>null</td><td>null</td></tr><tr><td>Montjuïc</td><td>Barcelona</td><td>Spain</td><td>null</td><td>null</td></tr><tr><td>Nivelles-Baulers</td><td>Brussels</td><td>Belgium</td><td>null</td><td>null</td></tr><tr><td>Charade Circuit</td><td>Clermont-Ferrand</td><td>France</td><td>null</td><td>null</td></tr><tr><td>Circuit Mont-Tremblant</td><td>Quebec</td><td>Canada</td><td>null</td><td>null</td></tr><tr><td>Rouen-Les-Essarts</td><td>Rouen</td><td>France</td><td>null</td><td>null</td></tr><tr><td>Le Mans</td><td>Le Mans</td><td>France</td><td>null</td><td>null</td></tr><tr><td>Reims-Gueux</td><td>Reims</td><td>France</td><td>null</td><td>null</td></tr><tr><td>Prince George Circuit</td><td>Eastern Cape Province</td><td>South Africa</td><td>null</td><td>null</td></tr><tr><td>Zeltweg</td><td>Styria</td><td>Austria</td><td>null</td><td>null</td></tr><tr><td>Aintree</td><td>Liverpool</td><td>UK</td><td>null</td><td>null</td></tr><tr><td>Circuito da Boavista</td><td>Oporto</td><td>Portugal</td><td>null</td><td>null</td></tr><tr><td>Riverside International Raceway</td><td>California</td><td>USA</td><td>null</td><td>null</td></tr><tr><td>AVUS</td><td>Berlin</td><td>Germany</td><td>null</td><td>null</td></tr><tr><td>Monsanto Park Circuit</td><td>Lisbon</td><td>Portugal</td><td>null</td><td>null</td></tr><tr><td>Sebring International Raceway</td><td>Florida</td><td>USA</td><td>null</td><td>null</td></tr><tr><td>Ain Diab</td><td>Casablanca</td><td>Morocco</td><td>null</td><td>null</td></tr><tr><td>Pescara Circuit</td><td>Pescara</td><td>Italy</td><td>null</td><td>null</td></tr><tr><td>Circuit Bremgarten</td><td>Bern</td><td>Switzerland</td><td>null</td><td>null</td></tr><tr><td>Circuit de Pedralbes</td><td>Barcelona</td><td>Spain</td><td>null</td><td>null</td></tr><tr><td>Buddh International Circuit</td><td>Uttar Pradesh</td><td>India</td><td>null</td><td>null</td></tr><tr><td>Circuit of the Americas</td><td>Austin</td><td>USA</td><td>United States Grand Prix</td><td>19</td></tr><tr><td>Red Bull Ring</td><td>Spielburg</td><td>Austria</td><td>Austrian Grand Prix</td><td>9</td></tr><tr><td>Sochi Autodrom</td><td>Sochi</td><td>Russia</td><td>Russian Grand Prix</td><td>16</td></tr><tr><td>Port Imperial Street Circuit</td><td>New Jersey</td><td>USA</td><td>null</td><td>null</td></tr><tr><td>Baku City Circuit</td><td>Baku</td><td>Azerbaijan</td><td>Azerbaijan Grand Prix</td><td>4</td></tr><tr><td>Hanoi Street Circuit</td><td>Hanoi</td><td>Vietnam</td><td>null</td><td>null</td></tr><tr><td>Autódromo Internacional do Algarve</td><td>Portimão</td><td>Portugal</td><td>null</td><td>null</td></tr><tr><td>Autodromo Internazionale del Mugello</td><td>Mugello</td><td>Italy</td><td>null</td><td>null</td></tr><tr><td>Jeddah Street Circuit</td><td>Jeddah</td><td>Saudi Arabia</td><td>null</td><td>null</td></tr></tbody></table></div>"
      ]
     },
     "metadata": {
      "application/vnd.databricks.v1+output": {
       "addedWidgets": {},
       "aggData": [],
       "aggError": "",
       "aggOverflow": false,
       "aggSchema": [],
       "aggSeriesLimitReached": false,
       "aggType": "",
       "arguments": {},
       "columnCustomDisplayInfos": {},
       "data": [
        [
         "Albert Park Grand Prix Circuit",
         "Melbourne",
         "Australia",
         "Australian Grand Prix",
         1
        ],
        [
         "Sepang International Circuit",
         "Kuala Lumpur",
         "Malaysia",
         null,
         null
        ],
        [
         "Bahrain International Circuit",
         "Sakhir",
         "Bahrain",
         "Bahrain Grand Prix",
         2
        ],
        [
         "Circuit de Barcelona-Catalunya",
         "Montmeló",
         "Spain",
         "Spanish Grand Prix",
         5
        ],
        [
         "Istanbul Park",
         "Istanbul",
         "Turkey",
         null,
         null
        ],
        [
         "Circuit de Monaco",
         "Monte-Carlo",
         "Monaco",
         "Monaco Grand Prix",
         6
        ],
        [
         "Circuit Gilles Villeneuve",
         "Montreal",
         "Canada",
         "Canadian Grand Prix",
         7
        ],
        [
         "Circuit de Nevers Magny-Cours",
         "Magny Cours",
         "France",
         null,
         null
        ],
        [
         "Silverstone Circuit",
         "Silverstone",
         "UK",
         "British Grand Prix",
         10
        ],
        [
         "Hockenheimring",
         "Hockenheim",
         "Germany",
         "German Grand Prix",
         11
        ],
        [
         "Hungaroring",
         "Budapest",
         "Hungary",
         "Hungarian Grand Prix",
         12
        ],
        [
         "Valencia Street Circuit",
         "Valencia",
         "Spain",
         null,
         null
        ],
        [
         "Circuit de Spa-Francorchamps",
         "Spa",
         "Belgium",
         "Belgian Grand Prix",
         13
        ],
        [
         "Autodromo Nazionale di Monza",
         "Monza",
         "Italy",
         "Italian Grand Prix",
         14
        ],
        [
         "Marina Bay Street Circuit",
         "Marina Bay",
         "Singapore",
         "Singapore Grand Prix",
         15
        ],
        [
         "Fuji Speedway",
         "Oyama",
         "Japan",
         null,
         null
        ],
        [
         "Shanghai International Circuit",
         "Shanghai",
         "China",
         "Chinese Grand Prix",
         3
        ],
        [
         "Autódromo José Carlos Pace",
         "São Paulo",
         "Brazil",
         "Brazilian Grand Prix",
         20
        ],
        [
         "Indianapolis Motor Speedway",
         "Indianapolis",
         "USA",
         null,
         null
        ],
        [
         "Nürburgring",
         "Nürburg",
         "Germany",
         null,
         null
        ],
        [
         "Autodromo Enzo e Dino Ferrari",
         "Imola",
         "Italy",
         null,
         null
        ],
        [
         "Suzuka Circuit",
         "Suzuka",
         "Japan",
         "Japanese Grand Prix",
         17
        ],
        [
         "A1-Ring",
         "Spielburg",
         "Austria",
         null,
         null
        ],
        [
         "Yas Marina Circuit",
         "Abu Dhabi",
         "UAE",
         "Abu Dhabi Grand Prix",
         21
        ],
        [
         "Autódromo Juan y Oscar Gálvez",
         "Buenos Aires",
         "Argentina",
         null,
         null
        ],
        [
         "Circuito de Jerez",
         "Jerez de la Frontera",
         "Spain",
         null,
         null
        ],
        [
         "Autódromo do Estoril",
         "Estoril",
         "Portugal",
         null,
         null
        ],
        [
         "Okayama International Circuit",
         "Okayama",
         "Japan",
         null,
         null
        ],
        [
         "Adelaide Street Circuit",
         "Adelaide",
         "Australia",
         null,
         null
        ],
        [
         "Kyalami",
         "Midrand",
         "South Africa",
         null,
         null
        ],
        [
         "Donington Park",
         "Castle Donington",
         "UK",
         null,
         null
        ],
        [
         "Autódromo Hermanos Rodríguez",
         "Mexico City",
         "Mexico",
         "Mexican Grand Prix",
         18
        ],
        [
         "Phoenix street circuit",
         "Phoenix",
         "USA",
         null,
         null
        ],
        [
         "Circuit Paul Ricard",
         "Le Castellet",
         "France",
         "French Grand Prix",
         8
        ],
        [
         "Korean International Circuit",
         "Yeongam County",
         "Korea",
         null,
         null
        ],
        [
         "Autódromo Internacional Nelson Piquet",
         "Rio de Janeiro",
         "Brazil",
         null,
         null
        ],
        [
         "Detroit Street Circuit",
         "Detroit",
         "USA",
         null,
         null
        ],
        [
         "Brands Hatch",
         "Kent",
         "UK",
         null,
         null
        ],
        [
         "Circuit Park Zandvoort",
         "Zandvoort",
         "Netherlands",
         null,
         null
        ],
        [
         "Zolder",
         "Heusden-Zolder",
         "Belgium",
         null,
         null
        ],
        [
         "Dijon-Prenois",
         "Dijon",
         "France",
         null,
         null
        ],
        [
         "Fair Park",
         "Dallas",
         "USA",
         null,
         null
        ],
        [
         "Long Beach",
         "California",
         "USA",
         null,
         null
        ],
        [
         "Las Vegas Street Circuit",
         "Nevada",
         "USA",
         null,
         null
        ],
        [
         "Jarama",
         "Madrid",
         "Spain",
         null,
         null
        ],
        [
         "Watkins Glen",
         "New York State",
         "USA",
         null,
         null
        ],
        [
         "Scandinavian Raceway",
         "Anderstorp",
         "Sweden",
         null,
         null
        ],
        [
         "Mosport International Raceway",
         "Ontario",
         "Canada",
         null,
         null
        ],
        [
         "Montjuïc",
         "Barcelona",
         "Spain",
         null,
         null
        ],
        [
         "Nivelles-Baulers",
         "Brussels",
         "Belgium",
         null,
         null
        ],
        [
         "Charade Circuit",
         "Clermont-Ferrand",
         "France",
         null,
         null
        ],
        [
         "Circuit Mont-Tremblant",
         "Quebec",
         "Canada",
         null,
         null
        ],
        [
         "Rouen-Les-Essarts",
         "Rouen",
         "France",
         null,
         null
        ],
        [
         "Le Mans",
         "Le Mans",
         "France",
         null,
         null
        ],
        [
         "Reims-Gueux",
         "Reims",
         "France",
         null,
         null
        ],
        [
         "Prince George Circuit",
         "Eastern Cape Province",
         "South Africa",
         null,
         null
        ],
        [
         "Zeltweg",
         "Styria",
         "Austria",
         null,
         null
        ],
        [
         "Aintree",
         "Liverpool",
         "UK",
         null,
         null
        ],
        [
         "Circuito da Boavista",
         "Oporto",
         "Portugal",
         null,
         null
        ],
        [
         "Riverside International Raceway",
         "California",
         "USA",
         null,
         null
        ],
        [
         "AVUS",
         "Berlin",
         "Germany",
         null,
         null
        ],
        [
         "Monsanto Park Circuit",
         "Lisbon",
         "Portugal",
         null,
         null
        ],
        [
         "Sebring International Raceway",
         "Florida",
         "USA",
         null,
         null
        ],
        [
         "Ain Diab",
         "Casablanca",
         "Morocco",
         null,
         null
        ],
        [
         "Pescara Circuit",
         "Pescara",
         "Italy",
         null,
         null
        ],
        [
         "Circuit Bremgarten",
         "Bern",
         "Switzerland",
         null,
         null
        ],
        [
         "Circuit de Pedralbes",
         "Barcelona",
         "Spain",
         null,
         null
        ],
        [
         "Buddh International Circuit",
         "Uttar Pradesh",
         "India",
         null,
         null
        ],
        [
         "Circuit of the Americas",
         "Austin",
         "USA",
         "United States Grand Prix",
         19
        ],
        [
         "Red Bull Ring",
         "Spielburg",
         "Austria",
         "Austrian Grand Prix",
         9
        ],
        [
         "Sochi Autodrom",
         "Sochi",
         "Russia",
         "Russian Grand Prix",
         16
        ],
        [
         "Port Imperial Street Circuit",
         "New Jersey",
         "USA",
         null,
         null
        ],
        [
         "Baku City Circuit",
         "Baku",
         "Azerbaijan",
         "Azerbaijan Grand Prix",
         4
        ],
        [
         "Hanoi Street Circuit",
         "Hanoi",
         "Vietnam",
         null,
         null
        ],
        [
         "Autódromo Internacional do Algarve",
         "Portimão",
         "Portugal",
         null,
         null
        ],
        [
         "Autodromo Internazionale del Mugello",
         "Mugello",
         "Italy",
         null,
         null
        ],
        [
         "Jeddah Street Circuit",
         "Jeddah",
         "Saudi Arabia",
         null,
         null
        ]
       ],
       "datasetInfos": [],
       "dbfsResultPath": null,
       "isJsonSchema": true,
       "metadata": {},
       "overflow": false,
       "plotOptions": {
        "customPlotOptions": {},
        "displayType": "table",
        "pivotAggregation": null,
        "pivotColumns": null,
        "xColumns": null,
        "yColumns": null
       },
       "removedWidgets": [],
       "schema": [
        {
         "metadata": "{}",
         "name": "circuit_name",
         "type": "\"string\""
        },
        {
         "metadata": "{}",
         "name": "location",
         "type": "\"string\""
        },
        {
         "metadata": "{}",
         "name": "country",
         "type": "\"string\""
        },
        {
         "metadata": "{}",
         "name": "race_name",
         "type": "\"string\""
        },
        {
         "metadata": "{}",
         "name": "round",
         "type": "\"integer\""
        }
       ],
       "type": "table"
      }
     },
     "output_type": "display_data"
    }
   ],
   "source": [
    "# Left Outer Join\n",
    "\n",
    "race_circuits_df = circuits_df.join(races_df, circuits_df.circuit_id == races_df.circuit_id, \"left\") \\\n",
    ".select(circuits_df.circuit_name, circuits_df.location, circuits_df.country, races_df.race_name, races_df.round)\n",
    "\n",
    "display(race_circuits_df)"
   ]
  },
  {
   "cell_type": "markdown",
   "metadata": {
    "application/vnd.databricks.v1+cell": {
     "cellMetadata": {},
     "inputWidgets": {},
     "nuid": "de0dff7d-e445-4dbc-8b9a-3c4cc57a61c9",
     "showTitle": false,
     "title": ""
    }
   },
   "source": [
    "#### Semi Join"
   ]
  },
  {
   "cell_type": "code",
   "execution_count": 0,
   "metadata": {
    "application/vnd.databricks.v1+cell": {
     "cellMetadata": {
      "byteLimit": 2048000,
      "rowLimit": 10000
     },
     "inputWidgets": {},
     "nuid": "14779c2a-8e8d-43f9-aef1-35d7fb89b356",
     "showTitle": false,
     "title": ""
    }
   },
   "outputs": [
    {
     "output_type": "stream",
     "name": "stdout",
     "output_type": "stream",
     "text": [
      "Out[16]: \"\\nSemi Joins is basically very similar to a Inner Join, so that means you'll only get the records which satisfy the condition on both tables.\\nBut the difference between Inner Join and a Semi Join is you're only given the columns from the left side of the join, which is the left dataframe. So you won't have access to any of the right dataframes. So this is very similar to writing an Inner Join, but selecting the columns only from the left dataframe.\\n\""
     ]
    }
   ],
   "source": [
    "\"\"\"\n",
    "Semi Joins is basically very similar to a Inner Join, so that means you'll only get the records which satisfy the condition on both tables.\n",
    "But the difference between Inner Join and a Semi Join is you're only given the columns from the left side of the join, which is the left dataframe. So you won't have access to any of the right dataframes. So this is very similar to writing an Inner Join, but selecting the columns only from the left dataframe.\n",
    "\"\"\""
   ]
  },
  {
   "cell_type": "markdown",
   "metadata": {
    "application/vnd.databricks.v1+cell": {
     "cellMetadata": {},
     "inputWidgets": {},
     "nuid": "f91694cf-4f1c-474e-89e4-78aa1a5cdd7b",
     "showTitle": false,
     "title": ""
    }
   },
   "source": [
    "#### Anti Joins"
   ]
  },
  {
   "cell_type": "code",
   "execution_count": 0,
   "metadata": {
    "application/vnd.databricks.v1+cell": {
     "cellMetadata": {
      "byteLimit": 2048000,
      "rowLimit": 10000
     },
     "inputWidgets": {},
     "nuid": "a4bc681a-271e-4c63-9393-df50fbad7d0d",
     "showTitle": false,
     "title": ""
    }
   },
   "outputs": [
    {
     "output_type": "display_data",
     "data": {
      "text/html": [
       "<style scoped>\n",
       "  .table-result-container {\n",
       "    max-height: 300px;\n",
       "    overflow: auto;\n",
       "  }\n",
       "  table, th, td {\n",
       "    border: 1px solid black;\n",
       "    border-collapse: collapse;\n",
       "  }\n",
       "  th, td {\n",
       "    padding: 5px;\n",
       "  }\n",
       "  th {\n",
       "    text-align: left;\n",
       "  }\n",
       "</style><div class='table-result-container'><table class='table-result'><thead style='background-color: white'><tr><th>circuit_id</th><th>circuit_ref</th><th>circuit_name</th><th>location</th><th>country</th><th>latitude</th><th>longitude</th><th>altitude</th><th>ingestion_date</th></tr></thead><tbody><tr><td>2</td><td>sepang</td><td>Sepang International Circuit</td><td>Kuala Lumpur</td><td>Malaysia</td><td>2.76083</td><td>101.738</td><td>18</td><td>2023-08-04T23:08:26.294+0000</td></tr><tr><td>5</td><td>istanbul</td><td>Istanbul Park</td><td>Istanbul</td><td>Turkey</td><td>40.9517</td><td>29.405</td><td>130</td><td>2023-08-04T23:08:26.294+0000</td></tr><tr><td>8</td><td>magny_cours</td><td>Circuit de Nevers Magny-Cours</td><td>Magny Cours</td><td>France</td><td>46.8642</td><td>3.16361</td><td>228</td><td>2023-08-04T23:08:26.294+0000</td></tr><tr><td>12</td><td>valencia</td><td>Valencia Street Circuit</td><td>Valencia</td><td>Spain</td><td>39.4589</td><td>-0.331667</td><td>4</td><td>2023-08-04T23:08:26.294+0000</td></tr><tr><td>16</td><td>fuji</td><td>Fuji Speedway</td><td>Oyama</td><td>Japan</td><td>35.3717</td><td>138.927</td><td>583</td><td>2023-08-04T23:08:26.294+0000</td></tr><tr><td>19</td><td>indianapolis</td><td>Indianapolis Motor Speedway</td><td>Indianapolis</td><td>USA</td><td>39.795</td><td>-86.2347</td><td>223</td><td>2023-08-04T23:08:26.294+0000</td></tr><tr><td>20</td><td>nurburgring</td><td>Nürburgring</td><td>Nürburg</td><td>Germany</td><td>50.3356</td><td>6.9475</td><td>578</td><td>2023-08-04T23:08:26.294+0000</td></tr><tr><td>21</td><td>imola</td><td>Autodromo Enzo e Dino Ferrari</td><td>Imola</td><td>Italy</td><td>44.3439</td><td>11.7167</td><td>37</td><td>2023-08-04T23:08:26.294+0000</td></tr><tr><td>23</td><td>osterreichring</td><td>A1-Ring</td><td>Spielburg</td><td>Austria</td><td>47.2197</td><td>14.7647</td><td>678</td><td>2023-08-04T23:08:26.294+0000</td></tr><tr><td>25</td><td>galvez</td><td>Autódromo Juan y Oscar Gálvez</td><td>Buenos Aires</td><td>Argentina</td><td>-34.6943</td><td>-58.4593</td><td>8</td><td>2023-08-04T23:08:26.294+0000</td></tr><tr><td>26</td><td>jerez</td><td>Circuito de Jerez</td><td>Jerez de la Frontera</td><td>Spain</td><td>36.7083</td><td>-6.03417</td><td>37</td><td>2023-08-04T23:08:26.294+0000</td></tr><tr><td>27</td><td>estoril</td><td>Autódromo do Estoril</td><td>Estoril</td><td>Portugal</td><td>38.7506</td><td>-9.39417</td><td>130</td><td>2023-08-04T23:08:26.294+0000</td></tr><tr><td>28</td><td>okayama</td><td>Okayama International Circuit</td><td>Okayama</td><td>Japan</td><td>34.915</td><td>134.221</td><td>266</td><td>2023-08-04T23:08:26.294+0000</td></tr><tr><td>29</td><td>adelaide</td><td>Adelaide Street Circuit</td><td>Adelaide</td><td>Australia</td><td>-34.9272</td><td>138.617</td><td>58</td><td>2023-08-04T23:08:26.294+0000</td></tr><tr><td>30</td><td>kyalami</td><td>Kyalami</td><td>Midrand</td><td>South Africa</td><td>-25.9894</td><td>28.0767</td><td>1460</td><td>2023-08-04T23:08:26.294+0000</td></tr><tr><td>31</td><td>donington</td><td>Donington Park</td><td>Castle Donington</td><td>UK</td><td>52.8306</td><td>-1.37528</td><td>88</td><td>2023-08-04T23:08:26.294+0000</td></tr><tr><td>33</td><td>phoenix</td><td>Phoenix street circuit</td><td>Phoenix</td><td>USA</td><td>33.4479</td><td>-112.075</td><td>345</td><td>2023-08-04T23:08:26.294+0000</td></tr><tr><td>35</td><td>yeongam</td><td>Korean International Circuit</td><td>Yeongam County</td><td>Korea</td><td>34.7333</td><td>126.417</td><td>0</td><td>2023-08-04T23:08:26.294+0000</td></tr><tr><td>36</td><td>jacarepagua</td><td>Autódromo Internacional Nelson Piquet</td><td>Rio de Janeiro</td><td>Brazil</td><td>-22.9756</td><td>-43.395</td><td>1126</td><td>2023-08-04T23:08:26.294+0000</td></tr><tr><td>37</td><td>detroit</td><td>Detroit Street Circuit</td><td>Detroit</td><td>USA</td><td>42.3298</td><td>-83.0401</td><td>177</td><td>2023-08-04T23:08:26.294+0000</td></tr><tr><td>38</td><td>brands_hatch</td><td>Brands Hatch</td><td>Kent</td><td>UK</td><td>51.3569</td><td>0.263056</td><td>145</td><td>2023-08-04T23:08:26.294+0000</td></tr><tr><td>39</td><td>zandvoort</td><td>Circuit Park Zandvoort</td><td>Zandvoort</td><td>Netherlands</td><td>52.3888</td><td>4.54092</td><td>6</td><td>2023-08-04T23:08:26.294+0000</td></tr><tr><td>40</td><td>zolder</td><td>Zolder</td><td>Heusden-Zolder</td><td>Belgium</td><td>50.9894</td><td>5.25694</td><td>36</td><td>2023-08-04T23:08:26.294+0000</td></tr><tr><td>41</td><td>dijon</td><td>Dijon-Prenois</td><td>Dijon</td><td>France</td><td>47.3625</td><td>4.89913</td><td>484</td><td>2023-08-04T23:08:26.294+0000</td></tr><tr><td>42</td><td>dallas</td><td>Fair Park</td><td>Dallas</td><td>USA</td><td>32.7774</td><td>-96.7587</td><td>139</td><td>2023-08-04T23:08:26.294+0000</td></tr><tr><td>43</td><td>long_beach</td><td>Long Beach</td><td>California</td><td>USA</td><td>33.7651</td><td>-118.189</td><td>12</td><td>2023-08-04T23:08:26.294+0000</td></tr><tr><td>44</td><td>las_vegas</td><td>Las Vegas Street Circuit</td><td>Nevada</td><td>USA</td><td>36.1162</td><td>-115.174</td><td>639</td><td>2023-08-04T23:08:26.294+0000</td></tr><tr><td>45</td><td>jarama</td><td>Jarama</td><td>Madrid</td><td>Spain</td><td>40.6171</td><td>-3.58558</td><td>609</td><td>2023-08-04T23:08:26.294+0000</td></tr><tr><td>46</td><td>watkins_glen</td><td>Watkins Glen</td><td>New York State</td><td>USA</td><td>42.3369</td><td>-76.9272</td><td>485</td><td>2023-08-04T23:08:26.294+0000</td></tr><tr><td>47</td><td>anderstorp</td><td>Scandinavian Raceway</td><td>Anderstorp</td><td>Sweden</td><td>57.2653</td><td>13.6042</td><td>153</td><td>2023-08-04T23:08:26.294+0000</td></tr><tr><td>48</td><td>mosport</td><td>Mosport International Raceway</td><td>Ontario</td><td>Canada</td><td>44.0481</td><td>-78.6756</td><td>332</td><td>2023-08-04T23:08:26.294+0000</td></tr><tr><td>49</td><td>montjuic</td><td>Montjuïc</td><td>Barcelona</td><td>Spain</td><td>41.3664</td><td>2.15167</td><td>79</td><td>2023-08-04T23:08:26.294+0000</td></tr><tr><td>50</td><td>nivelles</td><td>Nivelles-Baulers</td><td>Brussels</td><td>Belgium</td><td>50.6211</td><td>4.32694</td><td>139</td><td>2023-08-04T23:08:26.294+0000</td></tr><tr><td>51</td><td>charade</td><td>Charade Circuit</td><td>Clermont-Ferrand</td><td>France</td><td>45.7472</td><td>3.03889</td><td>790</td><td>2023-08-04T23:08:26.294+0000</td></tr><tr><td>52</td><td>tremblant</td><td>Circuit Mont-Tremblant</td><td>Quebec</td><td>Canada</td><td>46.1877</td><td>-74.6099</td><td>214</td><td>2023-08-04T23:08:26.294+0000</td></tr><tr><td>53</td><td>essarts</td><td>Rouen-Les-Essarts</td><td>Rouen</td><td>France</td><td>49.3306</td><td>1.00458</td><td>81</td><td>2023-08-04T23:08:26.294+0000</td></tr><tr><td>54</td><td>lemans</td><td>Le Mans</td><td>Le Mans</td><td>France</td><td>47.95</td><td>0.224231</td><td>67</td><td>2023-08-04T23:08:26.294+0000</td></tr><tr><td>55</td><td>reims</td><td>Reims-Gueux</td><td>Reims</td><td>France</td><td>49.2542</td><td>3.93083</td><td>88</td><td>2023-08-04T23:08:26.294+0000</td></tr><tr><td>56</td><td>george</td><td>Prince George Circuit</td><td>Eastern Cape Province</td><td>South Africa</td><td>-33.0486</td><td>27.8736</td><td>15</td><td>2023-08-04T23:08:26.294+0000</td></tr><tr><td>57</td><td>zeltweg</td><td>Zeltweg</td><td>Styria</td><td>Austria</td><td>47.2039</td><td>14.7478</td><td>676</td><td>2023-08-04T23:08:26.294+0000</td></tr><tr><td>58</td><td>aintree</td><td>Aintree</td><td>Liverpool</td><td>UK</td><td>53.4769</td><td>-2.94056</td><td>20</td><td>2023-08-04T23:08:26.294+0000</td></tr><tr><td>59</td><td>boavista</td><td>Circuito da Boavista</td><td>Oporto</td><td>Portugal</td><td>41.1705</td><td>-8.67325</td><td>28</td><td>2023-08-04T23:08:26.294+0000</td></tr><tr><td>60</td><td>riverside</td><td>Riverside International Raceway</td><td>California</td><td>USA</td><td>33.937</td><td>-117.273</td><td>470</td><td>2023-08-04T23:08:26.294+0000</td></tr><tr><td>61</td><td>avus</td><td>AVUS</td><td>Berlin</td><td>Germany</td><td>52.4806</td><td>13.2514</td><td>53</td><td>2023-08-04T23:08:26.294+0000</td></tr><tr><td>62</td><td>monsanto</td><td>Monsanto Park Circuit</td><td>Lisbon</td><td>Portugal</td><td>38.7197</td><td>-9.20306</td><td>158</td><td>2023-08-04T23:08:26.294+0000</td></tr><tr><td>63</td><td>sebring</td><td>Sebring International Raceway</td><td>Florida</td><td>USA</td><td>27.4547</td><td>-81.3483</td><td>18</td><td>2023-08-04T23:08:26.294+0000</td></tr><tr><td>64</td><td>ain-diab</td><td>Ain Diab</td><td>Casablanca</td><td>Morocco</td><td>33.5786</td><td>-7.6875</td><td>19</td><td>2023-08-04T23:08:26.294+0000</td></tr><tr><td>65</td><td>pescara</td><td>Pescara Circuit</td><td>Pescara</td><td>Italy</td><td>42.475</td><td>14.1508</td><td>129</td><td>2023-08-04T23:08:26.294+0000</td></tr><tr><td>66</td><td>bremgarten</td><td>Circuit Bremgarten</td><td>Bern</td><td>Switzerland</td><td>46.9589</td><td>7.40194</td><td>551</td><td>2023-08-04T23:08:26.294+0000</td></tr><tr><td>67</td><td>pedralbes</td><td>Circuit de Pedralbes</td><td>Barcelona</td><td>Spain</td><td>41.3903</td><td>2.11667</td><td>85</td><td>2023-08-04T23:08:26.294+0000</td></tr><tr><td>68</td><td>buddh</td><td>Buddh International Circuit</td><td>Uttar Pradesh</td><td>India</td><td>28.3487</td><td>77.5331</td><td>194</td><td>2023-08-04T23:08:26.294+0000</td></tr><tr><td>72</td><td>port_imperial</td><td>Port Imperial Street Circuit</td><td>New Jersey</td><td>USA</td><td>40.7769</td><td>-74.0111</td><td>4</td><td>2023-08-04T23:08:26.294+0000</td></tr><tr><td>74</td><td>hanoi</td><td>Hanoi Street Circuit</td><td>Hanoi</td><td>Vietnam</td><td>21.0166</td><td>105.766</td><td>9</td><td>2023-08-04T23:08:26.294+0000</td></tr><tr><td>75</td><td>portimao</td><td>Autódromo Internacional do Algarve</td><td>Portimão</td><td>Portugal</td><td>37.227</td><td>-8.6267</td><td>108</td><td>2023-08-04T23:08:26.294+0000</td></tr><tr><td>76</td><td>mugello</td><td>Autodromo Internazionale del Mugello</td><td>Mugello</td><td>Italy</td><td>43.9975</td><td>11.3719</td><td>255</td><td>2023-08-04T23:08:26.294+0000</td></tr><tr><td>77</td><td>jeddah</td><td>Jeddah Street Circuit</td><td>Jeddah</td><td>Saudi Arabia</td><td>21.5433</td><td>39.1728</td><td>15</td><td>2023-08-04T23:08:26.294+0000</td></tr></tbody></table></div>"
      ]
     },
     "metadata": {
      "application/vnd.databricks.v1+output": {
       "addedWidgets": {},
       "aggData": [],
       "aggError": "",
       "aggOverflow": false,
       "aggSchema": [],
       "aggSeriesLimitReached": false,
       "aggType": "",
       "arguments": {},
       "columnCustomDisplayInfos": {},
       "data": [
        [
         2,
         "sepang",
         "Sepang International Circuit",
         "Kuala Lumpur",
         "Malaysia",
         2.76083,
         101.738,
         18,
         "2023-08-04T23:08:26.294+0000"
        ],
        [
         5,
         "istanbul",
         "Istanbul Park",
         "Istanbul",
         "Turkey",
         40.9517,
         29.405,
         130,
         "2023-08-04T23:08:26.294+0000"
        ],
        [
         8,
         "magny_cours",
         "Circuit de Nevers Magny-Cours",
         "Magny Cours",
         "France",
         46.8642,
         3.16361,
         228,
         "2023-08-04T23:08:26.294+0000"
        ],
        [
         12,
         "valencia",
         "Valencia Street Circuit",
         "Valencia",
         "Spain",
         39.4589,
         -0.331667,
         4,
         "2023-08-04T23:08:26.294+0000"
        ],
        [
         16,
         "fuji",
         "Fuji Speedway",
         "Oyama",
         "Japan",
         35.3717,
         138.927,
         583,
         "2023-08-04T23:08:26.294+0000"
        ],
        [
         19,
         "indianapolis",
         "Indianapolis Motor Speedway",
         "Indianapolis",
         "USA",
         39.795,
         -86.2347,
         223,
         "2023-08-04T23:08:26.294+0000"
        ],
        [
         20,
         "nurburgring",
         "Nürburgring",
         "Nürburg",
         "Germany",
         50.3356,
         6.9475,
         578,
         "2023-08-04T23:08:26.294+0000"
        ],
        [
         21,
         "imola",
         "Autodromo Enzo e Dino Ferrari",
         "Imola",
         "Italy",
         44.3439,
         11.7167,
         37,
         "2023-08-04T23:08:26.294+0000"
        ],
        [
         23,
         "osterreichring",
         "A1-Ring",
         "Spielburg",
         "Austria",
         47.2197,
         14.7647,
         678,
         "2023-08-04T23:08:26.294+0000"
        ],
        [
         25,
         "galvez",
         "Autódromo Juan y Oscar Gálvez",
         "Buenos Aires",
         "Argentina",
         -34.6943,
         -58.4593,
         8,
         "2023-08-04T23:08:26.294+0000"
        ],
        [
         26,
         "jerez",
         "Circuito de Jerez",
         "Jerez de la Frontera",
         "Spain",
         36.7083,
         -6.03417,
         37,
         "2023-08-04T23:08:26.294+0000"
        ],
        [
         27,
         "estoril",
         "Autódromo do Estoril",
         "Estoril",
         "Portugal",
         38.7506,
         -9.39417,
         130,
         "2023-08-04T23:08:26.294+0000"
        ],
        [
         28,
         "okayama",
         "Okayama International Circuit",
         "Okayama",
         "Japan",
         34.915,
         134.221,
         266,
         "2023-08-04T23:08:26.294+0000"
        ],
        [
         29,
         "adelaide",
         "Adelaide Street Circuit",
         "Adelaide",
         "Australia",
         -34.9272,
         138.617,
         58,
         "2023-08-04T23:08:26.294+0000"
        ],
        [
         30,
         "kyalami",
         "Kyalami",
         "Midrand",
         "South Africa",
         -25.9894,
         28.0767,
         1460,
         "2023-08-04T23:08:26.294+0000"
        ],
        [
         31,
         "donington",
         "Donington Park",
         "Castle Donington",
         "UK",
         52.8306,
         -1.37528,
         88,
         "2023-08-04T23:08:26.294+0000"
        ],
        [
         33,
         "phoenix",
         "Phoenix street circuit",
         "Phoenix",
         "USA",
         33.4479,
         -112.075,
         345,
         "2023-08-04T23:08:26.294+0000"
        ],
        [
         35,
         "yeongam",
         "Korean International Circuit",
         "Yeongam County",
         "Korea",
         34.7333,
         126.417,
         0,
         "2023-08-04T23:08:26.294+0000"
        ],
        [
         36,
         "jacarepagua",
         "Autódromo Internacional Nelson Piquet",
         "Rio de Janeiro",
         "Brazil",
         -22.9756,
         -43.395,
         1126,
         "2023-08-04T23:08:26.294+0000"
        ],
        [
         37,
         "detroit",
         "Detroit Street Circuit",
         "Detroit",
         "USA",
         42.3298,
         -83.0401,
         177,
         "2023-08-04T23:08:26.294+0000"
        ],
        [
         38,
         "brands_hatch",
         "Brands Hatch",
         "Kent",
         "UK",
         51.3569,
         0.263056,
         145,
         "2023-08-04T23:08:26.294+0000"
        ],
        [
         39,
         "zandvoort",
         "Circuit Park Zandvoort",
         "Zandvoort",
         "Netherlands",
         52.3888,
         4.54092,
         6,
         "2023-08-04T23:08:26.294+0000"
        ],
        [
         40,
         "zolder",
         "Zolder",
         "Heusden-Zolder",
         "Belgium",
         50.9894,
         5.25694,
         36,
         "2023-08-04T23:08:26.294+0000"
        ],
        [
         41,
         "dijon",
         "Dijon-Prenois",
         "Dijon",
         "France",
         47.3625,
         4.89913,
         484,
         "2023-08-04T23:08:26.294+0000"
        ],
        [
         42,
         "dallas",
         "Fair Park",
         "Dallas",
         "USA",
         32.7774,
         -96.7587,
         139,
         "2023-08-04T23:08:26.294+0000"
        ],
        [
         43,
         "long_beach",
         "Long Beach",
         "California",
         "USA",
         33.7651,
         -118.189,
         12,
         "2023-08-04T23:08:26.294+0000"
        ],
        [
         44,
         "las_vegas",
         "Las Vegas Street Circuit",
         "Nevada",
         "USA",
         36.1162,
         -115.174,
         639,
         "2023-08-04T23:08:26.294+0000"
        ],
        [
         45,
         "jarama",
         "Jarama",
         "Madrid",
         "Spain",
         40.6171,
         -3.58558,
         609,
         "2023-08-04T23:08:26.294+0000"
        ],
        [
         46,
         "watkins_glen",
         "Watkins Glen",
         "New York State",
         "USA",
         42.3369,
         -76.9272,
         485,
         "2023-08-04T23:08:26.294+0000"
        ],
        [
         47,
         "anderstorp",
         "Scandinavian Raceway",
         "Anderstorp",
         "Sweden",
         57.2653,
         13.6042,
         153,
         "2023-08-04T23:08:26.294+0000"
        ],
        [
         48,
         "mosport",
         "Mosport International Raceway",
         "Ontario",
         "Canada",
         44.0481,
         -78.6756,
         332,
         "2023-08-04T23:08:26.294+0000"
        ],
        [
         49,
         "montjuic",
         "Montjuïc",
         "Barcelona",
         "Spain",
         41.3664,
         2.15167,
         79,
         "2023-08-04T23:08:26.294+0000"
        ],
        [
         50,
         "nivelles",
         "Nivelles-Baulers",
         "Brussels",
         "Belgium",
         50.6211,
         4.32694,
         139,
         "2023-08-04T23:08:26.294+0000"
        ],
        [
         51,
         "charade",
         "Charade Circuit",
         "Clermont-Ferrand",
         "France",
         45.7472,
         3.03889,
         790,
         "2023-08-04T23:08:26.294+0000"
        ],
        [
         52,
         "tremblant",
         "Circuit Mont-Tremblant",
         "Quebec",
         "Canada",
         46.1877,
         -74.6099,
         214,
         "2023-08-04T23:08:26.294+0000"
        ],
        [
         53,
         "essarts",
         "Rouen-Les-Essarts",
         "Rouen",
         "France",
         49.3306,
         1.00458,
         81,
         "2023-08-04T23:08:26.294+0000"
        ],
        [
         54,
         "lemans",
         "Le Mans",
         "Le Mans",
         "France",
         47.95,
         0.224231,
         67,
         "2023-08-04T23:08:26.294+0000"
        ],
        [
         55,
         "reims",
         "Reims-Gueux",
         "Reims",
         "France",
         49.2542,
         3.93083,
         88,
         "2023-08-04T23:08:26.294+0000"
        ],
        [
         56,
         "george",
         "Prince George Circuit",
         "Eastern Cape Province",
         "South Africa",
         -33.0486,
         27.8736,
         15,
         "2023-08-04T23:08:26.294+0000"
        ],
        [
         57,
         "zeltweg",
         "Zeltweg",
         "Styria",
         "Austria",
         47.2039,
         14.7478,
         676,
         "2023-08-04T23:08:26.294+0000"
        ],
        [
         58,
         "aintree",
         "Aintree",
         "Liverpool",
         "UK",
         53.4769,
         -2.94056,
         20,
         "2023-08-04T23:08:26.294+0000"
        ],
        [
         59,
         "boavista",
         "Circuito da Boavista",
         "Oporto",
         "Portugal",
         41.1705,
         -8.67325,
         28,
         "2023-08-04T23:08:26.294+0000"
        ],
        [
         60,
         "riverside",
         "Riverside International Raceway",
         "California",
         "USA",
         33.937,
         -117.273,
         470,
         "2023-08-04T23:08:26.294+0000"
        ],
        [
         61,
         "avus",
         "AVUS",
         "Berlin",
         "Germany",
         52.4806,
         13.2514,
         53,
         "2023-08-04T23:08:26.294+0000"
        ],
        [
         62,
         "monsanto",
         "Monsanto Park Circuit",
         "Lisbon",
         "Portugal",
         38.7197,
         -9.20306,
         158,
         "2023-08-04T23:08:26.294+0000"
        ],
        [
         63,
         "sebring",
         "Sebring International Raceway",
         "Florida",
         "USA",
         27.4547,
         -81.3483,
         18,
         "2023-08-04T23:08:26.294+0000"
        ],
        [
         64,
         "ain-diab",
         "Ain Diab",
         "Casablanca",
         "Morocco",
         33.5786,
         -7.6875,
         19,
         "2023-08-04T23:08:26.294+0000"
        ],
        [
         65,
         "pescara",
         "Pescara Circuit",
         "Pescara",
         "Italy",
         42.475,
         14.1508,
         129,
         "2023-08-04T23:08:26.294+0000"
        ],
        [
         66,
         "bremgarten",
         "Circuit Bremgarten",
         "Bern",
         "Switzerland",
         46.9589,
         7.40194,
         551,
         "2023-08-04T23:08:26.294+0000"
        ],
        [
         67,
         "pedralbes",
         "Circuit de Pedralbes",
         "Barcelona",
         "Spain",
         41.3903,
         2.11667,
         85,
         "2023-08-04T23:08:26.294+0000"
        ],
        [
         68,
         "buddh",
         "Buddh International Circuit",
         "Uttar Pradesh",
         "India",
         28.3487,
         77.5331,
         194,
         "2023-08-04T23:08:26.294+0000"
        ],
        [
         72,
         "port_imperial",
         "Port Imperial Street Circuit",
         "New Jersey",
         "USA",
         40.7769,
         -74.0111,
         4,
         "2023-08-04T23:08:26.294+0000"
        ],
        [
         74,
         "hanoi",
         "Hanoi Street Circuit",
         "Hanoi",
         "Vietnam",
         21.0166,
         105.766,
         9,
         "2023-08-04T23:08:26.294+0000"
        ],
        [
         75,
         "portimao",
         "Autódromo Internacional do Algarve",
         "Portimão",
         "Portugal",
         37.227,
         -8.6267,
         108,
         "2023-08-04T23:08:26.294+0000"
        ],
        [
         76,
         "mugello",
         "Autodromo Internazionale del Mugello",
         "Mugello",
         "Italy",
         43.9975,
         11.3719,
         255,
         "2023-08-04T23:08:26.294+0000"
        ],
        [
         77,
         "jeddah",
         "Jeddah Street Circuit",
         "Jeddah",
         "Saudi Arabia",
         21.5433,
         39.1728,
         15,
         "2023-08-04T23:08:26.294+0000"
        ]
       ],
       "datasetInfos": [],
       "dbfsResultPath": null,
       "isJsonSchema": true,
       "metadata": {},
       "overflow": false,
       "plotOptions": {
        "customPlotOptions": {},
        "displayType": "table",
        "pivotAggregation": null,
        "pivotColumns": null,
        "xColumns": null,
        "yColumns": null
       },
       "removedWidgets": [],
       "schema": [
        {
         "metadata": "{}",
         "name": "circuit_id",
         "type": "\"integer\""
        },
        {
         "metadata": "{}",
         "name": "circuit_ref",
         "type": "\"string\""
        },
        {
         "metadata": "{}",
         "name": "circuit_name",
         "type": "\"string\""
        },
        {
         "metadata": "{}",
         "name": "location",
         "type": "\"string\""
        },
        {
         "metadata": "{}",
         "name": "country",
         "type": "\"string\""
        },
        {
         "metadata": "{}",
         "name": "latitude",
         "type": "\"double\""
        },
        {
         "metadata": "{}",
         "name": "longitude",
         "type": "\"double\""
        },
        {
         "metadata": "{}",
         "name": "altitude",
         "type": "\"integer\""
        },
        {
         "metadata": "{}",
         "name": "ingestion_date",
         "type": "\"timestamp\""
        }
       ],
       "type": "table"
      }
     },
     "output_type": "display_data"
    }
   ],
   "source": [
    "\"\"\"\n",
    "The anti join is going to give you is everything on the left dataframe which is not found on the right dataframe.\n",
    "\"\"\"\n",
    "\n",
    "race_circuits_df = circuits_df.join(races_df, circuits_df.circuit_id == races_df.circuit_id, \"anti\")\n",
    "\n",
    "display(race_circuits_df)"
   ]
  },
  {
   "cell_type": "markdown",
   "metadata": {
    "application/vnd.databricks.v1+cell": {
     "cellMetadata": {},
     "inputWidgets": {},
     "nuid": "b814fb58-f75e-456e-aefb-604d44e000e1",
     "showTitle": false,
     "title": ""
    }
   },
   "source": [
    "#### Cross Joins"
   ]
  },
  {
   "cell_type": "code",
   "execution_count": 0,
   "metadata": {
    "application/vnd.databricks.v1+cell": {
     "cellMetadata": {},
     "inputWidgets": {},
     "nuid": "7059e29d-77fb-4eaf-bced-04bb684f0cfe",
     "showTitle": false,
     "title": ""
    }
   },
   "outputs": [],
   "source": [
    "\"\"\"Returns a cartesian product so use with caution\"\"\"\n",
    "\n",
    "# race_circuits_df = races_df.crossJoin(circuits_df)"
   ]
  },
  {
   "cell_type": "code",
   "execution_count": 0,
   "metadata": {
    "application/vnd.databricks.v1+cell": {
     "cellMetadata": {
      "byteLimit": 2048000,
      "rowLimit": 10000
     },
     "inputWidgets": {},
     "nuid": "9d701800-d08a-4dc7-a9d2-16321d2b8195",
     "showTitle": false,
     "title": ""
    }
   },
   "outputs": [
    {
     "output_type": "stream",
     "name": "stdout",
     "output_type": "stream",
     "text": [
      "<bound method DBUtils.FSHandler.prettify_exception_message.<locals>.f_with_exception_handling of Package 'dbutils.fs'. For more information, type 'display(dbutils.fs)' in a cell.>"
     ]
    }
   ],
   "source": []
  },
  {
   "cell_type": "code",
   "execution_count": 0,
   "metadata": {
    "application/vnd.databricks.v1+cell": {
     "cellMetadata": {},
     "inputWidgets": {},
     "nuid": "4fb228d5-c9f3-41b0-9268-67281a0a9cee",
     "showTitle": false,
     "title": ""
    }
   },
   "outputs": [],
   "source": []
  }
 ],
 "metadata": {
  "application/vnd.databricks.v1+notebook": {
   "dashboards": [],
   "language": "python",
   "notebookMetadata": {
    "pythonIndentUnit": 4
   },
   "notebookName": "join_demo",
   "widgets": {}
  }
 },
 "nbformat": 4,
 "nbformat_minor": 0
}
