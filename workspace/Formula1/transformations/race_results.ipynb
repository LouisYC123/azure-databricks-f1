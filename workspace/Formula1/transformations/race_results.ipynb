{
 "cells": [
  {
   "cell_type": "markdown",
   "metadata": {
    "application/vnd.databricks.v1+cell": {
     "cellMetadata": {
      "byteLimit": 2048000,
      "rowLimit": 10000
     },
     "inputWidgets": {},
     "nuid": "d24a4112-d953-4e42-81f6-8df63275fb2d",
     "showTitle": false,
     "title": ""
    }
   },
   "source": [
    "# Join Ingested data into single table"
   ]
  },
  {
   "cell_type": "code",
   "execution_count": 0,
   "metadata": {
    "application/vnd.databricks.v1+cell": {
     "cellMetadata": {
      "byteLimit": 2048000,
      "rowLimit": 10000
     },
     "inputWidgets": {},
     "nuid": "f12e0372-f256-4210-8816-3d57efcd9748",
     "showTitle": false,
     "title": ""
    }
   },
   "outputs": [],
   "source": [
    "from pyspark.sql.functions import col, current_timestamp"
   ]
  },
  {
   "cell_type": "code",
   "execution_count": 0,
   "metadata": {
    "application/vnd.databricks.v1+cell": {
     "cellMetadata": {
      "byteLimit": 2048000,
      "rowLimit": 10000
     },
     "inputWidgets": {},
     "nuid": "6cdd123b-9b45-4b7c-b5d7-4a252fbc5e8e",
     "showTitle": false,
     "title": ""
    }
   },
   "outputs": [],
   "source": [
    "%run \"../includes/configuration\""
   ]
  },
  {
   "cell_type": "code",
   "execution_count": 0,
   "metadata": {
    "application/vnd.databricks.v1+cell": {
     "cellMetadata": {
      "byteLimit": 2048000,
      "rowLimit": 10000
     },
     "inputWidgets": {},
     "nuid": "1137f1eb-942d-4bf1-82fa-d47216da05b7",
     "showTitle": false,
     "title": ""
    }
   },
   "outputs": [],
   "source": [
    "%run \"../includes/common_functions\""
   ]
  },
  {
   "cell_type": "code",
   "execution_count": 0,
   "metadata": {
    "application/vnd.databricks.v1+cell": {
     "cellMetadata": {
      "byteLimit": 2048000,
      "rowLimit": 10000
     },
     "inputWidgets": {},
     "nuid": "04e1ebf3-932a-44a1-a05f-9ed73f73a3c7",
     "showTitle": false,
     "title": ""
    }
   },
   "outputs": [],
   "source": [
    "# We are renaming columns here so that we dont get conflicts when we merge tables that have columns of the same name\n",
    "# (Spark doesnt have the _suffixes that pandas does)\n",
    "\n",
    "drivers = spark.read.parquet(f\"{processed_folder_path}/drivers\") \\\n",
    ".withColumnRenamed(\"number\", \"driver_number\") \\\n",
    ".withColumnRenamed(\"name\", \"driver_name\") \\\n",
    ".withColumnRenamed(\"nationality\", \"driver_nationality\")   \n",
    "\n",
    "constructors = spark.read.parquet(f\"{processed_folder_path}/constructors\") \\\n",
    ".withColumnRenamed(\"name\", \"team\")\n",
    " \n",
    "circuits = spark.read.parquet(f\"{processed_folder_path}/circuits\") \\\n",
    ".withColumnRenamed(\"location\", \"circuit_location\")\n",
    "\n",
    "races = spark.read.parquet(f\"{processed_folder_path}/races\") \\\n",
    ".withColumnRenamed(\"name\", \"race_name\") \\\n",
    ".withColumnRenamed(\"race_timestamp\", \"race_date\")\n",
    "\n",
    "results = spark.read.parquet(f\"{processed_folder_path}/results\") \\\n",
    ".withColumnRenamed(\"time\",\"race_time\")"
   ]
  },
  {
   "cell_type": "code",
   "execution_count": 0,
   "metadata": {
    "application/vnd.databricks.v1+cell": {
     "cellMetadata": {
      "byteLimit": 2048000,
      "rowLimit": 10000
     },
     "inputWidgets": {},
     "nuid": "8a94c9e4-01ce-472d-887e-8e285502e738",
     "showTitle": false,
     "title": ""
    }
   },
   "outputs": [],
   "source": [
    "race_circuits = races.join(circuits, races.circuit_id==circuits.circuit_id) \\\n",
    ".select(races.race_id, races.race_year, races.race_name,races.race_date, circuits.circuit_location)"
   ]
  },
  {
   "cell_type": "code",
   "execution_count": 0,
   "metadata": {
    "application/vnd.databricks.v1+cell": {
     "cellMetadata": {
      "byteLimit": 2048000,
      "rowLimit": 10000
     },
     "inputWidgets": {},
     "nuid": "114cfea1-37f6-4fb7-a3ba-a3c28cd39211",
     "showTitle": false,
     "title": ""
    }
   },
   "outputs": [],
   "source": [
    "race_results = results.join(race_circuits, results.race_id==race_circuits.race_id) \\\n",
    ".join(drivers, results.driver_id == drivers.driver_id) \\\n",
    ".join(constructors, results.constructor_id == constructors.constructor_id)"
   ]
  },
  {
   "cell_type": "code",
   "execution_count": 0,
   "metadata": {
    "application/vnd.databricks.v1+cell": {
     "cellMetadata": {
      "byteLimit": 2048000,
      "rowLimit": 10000
     },
     "inputWidgets": {},
     "nuid": "9ea46b0c-0b49-4320-aa71-12c3ed97b2be",
     "showTitle": false,
     "title": ""
    }
   },
   "outputs": [],
   "source": [
    "final = race_results.select(\n",
    "    \"race_year\", \n",
    "    \"race_name\", \n",
    "    \"race_date\", \n",
    "    \"circuit_location\", \n",
    "    \"driver_name\", \n",
    "    \"driver_number\", \n",
    "    \"driver_nationality\", \n",
    "    \"team\", \"fastest_lap\", \n",
    "    \"race_time\", \n",
    "    \"points\",\n",
    "    \"position\",\n",
    "    ) \\\n",
    ".withColumn(\"created_date\", current_timestamp())\n"
   ]
  },
  {
   "cell_type": "code",
   "execution_count": 0,
   "metadata": {
    "application/vnd.databricks.v1+cell": {
     "cellMetadata": {
      "byteLimit": 2048000,
      "rowLimit": 10000
     },
     "inputWidgets": {},
     "nuid": "d5106798-6730-4810-b169-3baf12a75f90",
     "showTitle": false,
     "title": ""
    }
   },
   "outputs": [],
   "source": [
    "final = final.orderBy(final.points.desc())"
   ]
  },
  {
   "cell_type": "code",
   "execution_count": 0,
   "metadata": {
    "application/vnd.databricks.v1+cell": {
     "cellMetadata": {
      "byteLimit": 2048000,
      "rowLimit": 10000
     },
     "inputWidgets": {},
     "nuid": "8a647b6b-465c-47f5-871d-1ad33afd4115",
     "showTitle": false,
     "title": ""
    }
   },
   "outputs": [],
   "source": [
    "final.write.mode(\"overwrite\").parquet(f\"{presentation_folder_path}/race_results\")"
   ]
  },
  {
   "cell_type": "code",
   "execution_count": 0,
   "metadata": {
    "application/vnd.databricks.v1+cell": {
     "cellMetadata": {
      "byteLimit": 2048000,
      "rowLimit": 10000
     },
     "inputWidgets": {},
     "nuid": "99d6d160-f2e5-4d1e-95fa-2f8f9b6a4e34",
     "showTitle": false,
     "title": ""
    }
   },
   "outputs": [],
   "source": []
  }
 ],
 "metadata": {
  "application/vnd.databricks.v1+notebook": {
   "dashboards": [],
   "language": "python",
   "notebookMetadata": {
    "pythonIndentUnit": 4
   },
   "notebookName": "race_results",
   "widgets": {}
  }
 },
 "nbformat": 4,
 "nbformat_minor": 0
}
